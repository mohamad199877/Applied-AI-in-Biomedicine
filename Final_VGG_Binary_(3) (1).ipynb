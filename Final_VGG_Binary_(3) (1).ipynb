{
  "nbformat": 4,
  "nbformat_minor": 0,
  "metadata": {
    "colab": {
      "provenance": [],
      "gpuType": "T4"
    },
    "kernelspec": {
      "name": "python3",
      "display_name": "Python 3"
    },
    "language_info": {
      "name": "python"
    },
    "accelerator": "GPU"
  },
  "cells": [
    {
      "cell_type": "code",
      "execution_count": null,
      "metadata": {
        "colab": {
          "base_uri": "https://localhost:8080/"
        },
        "id": "cOf_UMZAilpW",
        "outputId": "a213349c-9a12-4337-c845-fb33ec724cd3"
      },
      "outputs": [
        {
          "output_type": "stream",
          "name": "stdout",
          "text": [
            "Mounted at /gdrive\n",
            "/gdrive/My Drive/train\n"
          ]
        }
      ],
      "source": [
        "from google.colab import drive\n",
        "drive.mount('/gdrive')\n",
        "%cd /gdrive/My Drive/train"
      ]
    },
    {
      "cell_type": "code",
      "source": [
        "from scipy.io import loadmat\n",
        "import numpy as np, os, sys, joblib\n",
        "import matplotlib.pyplot as plt\n",
        "import scipy.signal as signal\n",
        "import math\n",
        "from tqdm import tqdm\n",
        "import pandas as pd\n",
        "import random\n",
        "import tensorflow as tf\n",
        "from tensorflow.keras.models import Sequential\n",
        "import sklearn\n",
        "from collections import Counter\n",
        "import matplotlib.pyplot as plt\n",
        "import seaborn as sns\n",
        "from sklearn.metrics import confusion_matrix\n",
        "import itertools\n",
        "\n",
        "\n",
        "SEED = 1234\n",
        "np.random.seed(SEED)\n",
        "pd.core.common._random_stat = SEED\n",
        "random.seed(SEED)\n",
        "os.environ['PYTHONHASHSEED'] = str(SEED)"
      ],
      "metadata": {
        "id": "tpa4LJ53iqU7"
      },
      "execution_count": null,
      "outputs": []
    },
    {
      "cell_type": "code",
      "source": [
        "from sklearn.model_selection import train_test_split\n",
        "import os\n",
        "import re"
      ],
      "metadata": {
        "id": "kAp3KnYzirk6"
      },
      "execution_count": null,
      "outputs": []
    },
    {
      "cell_type": "code",
      "source": [
        "path_to_data = \"/gdrive/My Drive/train\""
      ],
      "metadata": {
        "id": "A6ONFXh8issq"
      },
      "execution_count": null,
      "outputs": []
    },
    {
      "cell_type": "code",
      "source": [
        "# @title Preprocessing\n",
        "\n",
        "#Utility: given the filename of a signal it returns the sampling frequency\n",
        "def ppg_freq(filename):\n",
        "  if '128' in filename:\n",
        "    return 128\n",
        "  else:\n",
        "    return 250"
      ],
      "metadata": {
        "id": "peGhdQAQitvi"
      },
      "execution_count": null,
      "outputs": []
    },
    {
      "cell_type": "code",
      "source": [
        "# @title Preprocessing\n",
        "def load_data(file):\n",
        "\n",
        "  original = loadmat(file) #  dictionary with variable names as keys, and loaded matrices as values\n",
        "\n",
        "  spk_file = file.replace('.mat', '_spk.mat')\n",
        "  spk = loadmat(spk_file)\n",
        "\n",
        "  ann_file = file.replace('.mat', '_ann.mat')\n",
        "  ann = loadmat(ann_file)\n",
        "\n",
        "  return original, spk, ann"
      ],
      "metadata": {
        "id": "gNO9LSyyiuxL"
      },
      "execution_count": null,
      "outputs": []
    },
    {
      "cell_type": "code",
      "source": [
        "def filter_files_by_pattern(directory, pattern):\n",
        "    \"\"\"\n",
        "    Filter files in a directory based on a specified pattern.\n",
        "\n",
        "    Parameters:\n",
        "    - directory: The directory containing the files.\n",
        "    - pattern: The regular expression pattern to match filenames.\n",
        "\n",
        "    Returns:\n",
        "    - List of filenames matching the pattern.\n",
        "    \"\"\"\n",
        "    files = os.listdir(directory)\n",
        "    filtered_files = [file for file in files if re.match(pattern, file)]\n",
        "    return filtered_files"
      ],
      "metadata": {
        "id": "LMUxvSU9iwEZ"
      },
      "execution_count": null,
      "outputs": []
    },
    {
      "cell_type": "code",
      "source": [
        "directory = path_to_data\n",
        "pattern = r'S\\d{3}_\\d{3}\\.mat'  # Regular expression pattern matching 'SXXX_YYY.mat'\n",
        "\n",
        "filtered_files = filter_files_by_pattern(directory, pattern)\n",
        "print(filtered_files)"
      ],
      "metadata": {
        "id": "SAW8Ib-sixa6",
        "colab": {
          "base_uri": "https://localhost:8080/"
        },
        "outputId": "11502187-f4d0-4914-86ac-6b728047e3c4"
      },
      "execution_count": null,
      "outputs": [
        {
          "output_type": "stream",
          "name": "stdout",
          "text": [
            "['S001_128.mat', 'S002_128.mat', 'S003_128.mat', 'S004_128.mat', 'S005_128.mat', 'S006_128.mat', 'S007_128.mat', 'S008_128.mat', 'S009_128.mat', 'S010_128.mat', 'S011_128.mat', 'S012_128.mat', 'S013_128.mat', 'S014_128.mat', 'S015_128.mat', 'S016_128.mat', 'S017_128.mat', 'S018_128.mat', 'S019_128.mat', 'S020_128.mat', 'S021_128.mat', 'S022_128.mat', 'S023_128.mat', 'S024_128.mat', 'S025_128.mat', 'S026_128.mat', 'S027_128.mat', 'S028_128.mat', 'S029_128.mat', 'S030_128.mat', 'S031_128.mat', 'S032_128.mat', 'S033_128.mat', 'S034_128.mat', 'S035_128.mat', 'S036_128.mat', 'S037_128.mat', 'S038_128.mat', 'S039_128.mat', 'S040_128.mat', 'S041_128.mat', 'S042_128.mat', 'S043_128.mat', 'S044_128.mat', 'S045_128.mat', 'S046_128.mat', 'S047_128.mat', 'S048_128.mat', 'S049_128.mat', 'S050_128.mat', 'S051_128.mat', 'S052_128.mat', 'S053_128.mat', 'S054_128.mat', 'S055_128.mat', 'S056_128.mat', 'S057_128.mat', 'S058_128.mat', 'S059_128.mat', 'S060_128.mat', 'S061_128.mat', 'S062_128.mat', 'S079_250.mat', 'S080_250.mat', 'S081_250.mat', 'S082_250.mat', 'S083_250.mat', 'S084_250.mat', 'S085_250.mat', 'S086_250.mat', 'S087_250.mat', 'S088_250.mat', 'S089_250.mat', 'S090_250.mat', 'S091_250.mat', 'S092_250.mat', 'S093_250.mat', 'S094_250.mat', 'S095_250.mat', 'S096_250.mat', 'S097_250.mat', 'S098_250.mat', 'S099_250.mat', 'S100_250.mat', 'S101_250.mat', 'S102_250.mat', 'S103_250.mat', 'S104_250.mat', 'S105_250.mat', 'S106_250.mat', 'S107_250.mat', 'S108_250.mat', 'S109_250.mat', 'S110_250.mat', 'S111_250.mat', 'S112_250.mat', 'S113_250.mat', 'S114_250.mat', 'S115_250.mat', 'S116_250.mat', 'S117_250.mat', 'S118_250.mat', 'S119_250.mat', 'S120_250.mat', 'S121_250.mat']\n"
          ]
        }
      ]
    },
    {
      "cell_type": "code",
      "source": [
        "type(filtered_files)\n",
        "len(filtered_files)"
      ],
      "metadata": {
        "id": "jBq8CS5OizJA",
        "colab": {
          "base_uri": "https://localhost:8080/"
        },
        "outputId": "597c50e1-fdbb-4fe7-e6f0-b03dac61ddd4"
      },
      "execution_count": null,
      "outputs": [
        {
          "output_type": "execute_result",
          "data": {
            "text/plain": [
              "105"
            ]
          },
          "metadata": {},
          "execution_count": 11
        }
      ]
    },
    {
      "cell_type": "code",
      "source": [
        "data = []\n",
        "ppg_data = []\n",
        "spk_data = []\n",
        "ann_data = []\n",
        "\n",
        "for file in filtered_files:\n",
        "  ppg, spk, ann = load_data(path_to_data + '/' + file)\n",
        "  ppg_data.append(ppg)\n",
        "  spk_data.append(spk)\n",
        "  ann_data.append(ann)\n",
        "\n",
        "  data.append(path_to_data + '/' + file)"
      ],
      "metadata": {
        "id": "Tx3lUep0i0K5"
      },
      "execution_count": null,
      "outputs": []
    },
    {
      "cell_type": "code",
      "source": [
        "ppg_data"
      ],
      "metadata": {
        "id": "38I0jpnbi1LZ",
        "colab": {
          "base_uri": "https://localhost:8080/"
        },
        "outputId": "90350619-9570-49f2-dbd2-161ccf27088d"
      },
      "execution_count": null,
      "outputs": [
        {
          "output_type": "execute_result",
          "data": {
            "text/plain": [
              "[{'__header__': b'MATLAB 5.0 MAT-file, Platform: MACA64, Created on: Tue Nov  7 09:57:28 2023',\n",
              "  '__version__': '1.0',\n",
              "  '__globals__': [],\n",
              "  'ppg': array([[-2.38138363],\n",
              "         [-2.38135063],\n",
              "         [-2.38131159],\n",
              "         ...,\n",
              "         [-3.93333424],\n",
              "         [-4.06168546],\n",
              "         [-4.2308891 ]])},\n",
              " {'__header__': b'MATLAB 5.0 MAT-file, Platform: MACA64, Created on: Tue Nov  7 09:57:28 2023',\n",
              "  '__version__': '1.0',\n",
              "  '__globals__': [],\n",
              "  'ppg': array([[-1.62433622],\n",
              "         [-1.62433622],\n",
              "         [-1.62433622],\n",
              "         ...,\n",
              "         [-1.7324762 ],\n",
              "         [-1.27083778],\n",
              "         [-1.31682689]])},\n",
              " {'__header__': b'MATLAB 5.0 MAT-file, Platform: MACA64, Created on: Tue Nov  7 09:57:28 2023',\n",
              "  '__version__': '1.0',\n",
              "  '__globals__': [],\n",
              "  'ppg': array([[-2.42002693],\n",
              "         [-2.4200018 ],\n",
              "         [-2.41997314],\n",
              "         ...,\n",
              "         [-2.41322432],\n",
              "         [-2.41333122],\n",
              "         [-2.41343626]])},\n",
              " {'__header__': b'MATLAB 5.0 MAT-file, Platform: MACA64, Created on: Tue Nov  7 09:57:28 2023',\n",
              "  '__version__': '1.0',\n",
              "  '__globals__': [],\n",
              "  'ppg': array([[ -1.84618138],\n",
              "         [ -1.84618129],\n",
              "         [ -1.84618115],\n",
              "         ...,\n",
              "         [ -8.66013472],\n",
              "         [ -9.39623979],\n",
              "         [-10.93874931]])},\n",
              " {'__header__': b'MATLAB 5.0 MAT-file, Platform: MACA64, Created on: Tue Nov  7 09:57:28 2023',\n",
              "  '__version__': '1.0',\n",
              "  '__globals__': [],\n",
              "  'ppg': array([[-2.28781776],\n",
              "         [-2.28778699],\n",
              "         [-2.28775149],\n",
              "         ...,\n",
              "         [-7.47831182],\n",
              "         [-7.08123088],\n",
              "         [-7.29160242]])},\n",
              " {'__header__': b'MATLAB 5.0 MAT-file, Platform: MACA64, Created on: Tue Nov  7 09:57:28 2023',\n",
              "  '__version__': '1.0',\n",
              "  '__globals__': [],\n",
              "  'ppg': array([[-2.03977179],\n",
              "         [-2.03976231],\n",
              "         [-2.03975135],\n",
              "         ...,\n",
              "         [ 1.81192531],\n",
              "         [ 0.30365218],\n",
              "         [-0.23711864]])},\n",
              " {'__header__': b'MATLAB 5.0 MAT-file, Platform: MACA64, Created on: Tue Nov  7 09:57:29 2023',\n",
              "  '__version__': '1.0',\n",
              "  '__globals__': [],\n",
              "  'ppg': array([[-2.22563234],\n",
              "         [-2.22558066],\n",
              "         [-2.22552238],\n",
              "         ...,\n",
              "         [-1.87560657],\n",
              "         [-1.85378433],\n",
              "         [-1.89347618]])},\n",
              " {'__header__': b'MATLAB 5.0 MAT-file, Platform: MACA64, Created on: Tue Nov  7 09:57:29 2023',\n",
              "  '__version__': '1.0',\n",
              "  '__globals__': [],\n",
              "  'ppg': array([[-2.38517101],\n",
              "         [-2.38514392],\n",
              "         [-2.385113  ],\n",
              "         ...,\n",
              "         [-6.90206801],\n",
              "         [-6.69933291],\n",
              "         [-6.55881745]])},\n",
              " {'__header__': b'MATLAB 5.0 MAT-file, Platform: MACA64, Created on: Tue Nov  7 09:57:29 2023',\n",
              "  '__version__': '1.0',\n",
              "  '__globals__': [],\n",
              "  'ppg': array([[-1.88959121],\n",
              "         [-1.88959106],\n",
              "         [-1.88959087],\n",
              "         ...,\n",
              "         [-1.88959172],\n",
              "         [-1.88959173],\n",
              "         [-1.88959173]])},\n",
              " {'__header__': b'MATLAB 5.0 MAT-file, Platform: MACA64, Created on: Tue Nov  7 09:57:29 2023',\n",
              "  '__version__': '1.0',\n",
              "  '__globals__': [],\n",
              "  'ppg': array([[-1.86976435],\n",
              "         [-1.86976416],\n",
              "         [-1.8697639 ],\n",
              "         ...,\n",
              "         [-3.21407915],\n",
              "         [-3.179012  ],\n",
              "         [-3.16361573]])},\n",
              " {'__header__': b'MATLAB 5.0 MAT-file, Platform: MACA64, Created on: Tue Nov  7 09:57:29 2023',\n",
              "  '__version__': '1.0',\n",
              "  '__globals__': [],\n",
              "  'ppg': array([[-2.30117906],\n",
              "         [-2.30115315],\n",
              "         [-2.30112397],\n",
              "         ...,\n",
              "         [-2.29569334],\n",
              "         [-2.29576887],\n",
              "         [-2.29584327]])},\n",
              " {'__header__': b'MATLAB 5.0 MAT-file, Platform: MACA64, Created on: Tue Nov  7 09:57:29 2023',\n",
              "  '__version__': '1.0',\n",
              "  '__globals__': [],\n",
              "  'ppg': array([[-1.6085944],\n",
              "         [-1.6085944],\n",
              "         [-1.6085944],\n",
              "         ...,\n",
              "         [-1.6085944],\n",
              "         [-1.6085944],\n",
              "         [-1.6085944]])},\n",
              " {'__header__': b'MATLAB 5.0 MAT-file, Platform: MACA64, Created on: Tue Nov  7 09:57:30 2023',\n",
              "  '__version__': '1.0',\n",
              "  '__globals__': [],\n",
              "  'ppg': array([[-1.8747457 ],\n",
              "         [-1.8747456 ],\n",
              "         [-1.87474548],\n",
              "         ...,\n",
              "         [ 6.92591898],\n",
              "         [ 7.005649  ],\n",
              "         [ 7.41894579]])},\n",
              " {'__header__': b'MATLAB 5.0 MAT-file, Platform: MACA64, Created on: Tue Nov  7 09:57:30 2023',\n",
              "  '__version__': '1.0',\n",
              "  '__globals__': [],\n",
              "  'ppg': array([[-2.36000324],\n",
              "         [-2.35996344],\n",
              "         [-2.35991619],\n",
              "         ...,\n",
              "         [-2.35814875],\n",
              "         [-2.35819273],\n",
              "         [-2.35823564]])},\n",
              " {'__header__': b'MATLAB 5.0 MAT-file, Platform: MACA64, Created on: Tue Nov  7 09:57:30 2023',\n",
              "  '__version__': '1.0',\n",
              "  '__globals__': [],\n",
              "  'ppg': array([[-2.00867526],\n",
              "         [-2.00866851],\n",
              "         [-2.00866091],\n",
              "         ...,\n",
              "         [-2.00836323],\n",
              "         [-2.00837351],\n",
              "         [-2.00838348]])},\n",
              " {'__header__': b'MATLAB 5.0 MAT-file, Platform: MACA64, Created on: Tue Nov  7 09:57:30 2023',\n",
              "  '__version__': '1.0',\n",
              "  '__globals__': [],\n",
              "  'ppg': array([[-1.58870041],\n",
              "         [-1.58870041],\n",
              "         [-1.58870041],\n",
              "         ...,\n",
              "         [-1.58870041],\n",
              "         [-1.58870041],\n",
              "         [-1.58870041]])},\n",
              " {'__header__': b'MATLAB 5.0 MAT-file, Platform: MACA64, Created on: Tue Nov  7 09:57:31 2023',\n",
              "  '__version__': '1.0',\n",
              "  '__globals__': [],\n",
              "  'ppg': array([[-1.8570442 ],\n",
              "         [-1.85704402],\n",
              "         [-1.85704378],\n",
              "         ...,\n",
              "         [-1.8570447 ],\n",
              "         [-1.8570447 ],\n",
              "         [-1.8570447 ]])},\n",
              " {'__header__': b'MATLAB 5.0 MAT-file, Platform: MACA64, Created on: Tue Nov  7 09:57:31 2023',\n",
              "  '__version__': '1.0',\n",
              "  '__globals__': [],\n",
              "  'ppg': array([[-2.76401873],\n",
              "         [-2.76396188],\n",
              "         [-2.76389808],\n",
              "         ...,\n",
              "         [-2.26738503],\n",
              "         [-2.42859717],\n",
              "         [-2.58222943]])},\n",
              " {'__header__': b'MATLAB 5.0 MAT-file, Platform: MACA64, Created on: Tue Nov  7 09:57:31 2023',\n",
              "  '__version__': '1.0',\n",
              "  '__globals__': [],\n",
              "  'ppg': array([[-1.96860933],\n",
              "         [-1.96859909],\n",
              "         [-1.96858688],\n",
              "         ...,\n",
              "         [ 0.37914887],\n",
              "         [12.18379536],\n",
              "         [-0.05961882]])},\n",
              " {'__header__': b'MATLAB 5.0 MAT-file, Platform: MACA64, Created on: Tue Nov  7 09:57:31 2023',\n",
              "  '__version__': '1.0',\n",
              "  '__globals__': [],\n",
              "  'ppg': array([[-1.89690237],\n",
              "         [-1.89688751],\n",
              "         [-1.896868  ],\n",
              "         ...,\n",
              "         [-1.8373106 ],\n",
              "         [-2.06055025],\n",
              "         [-2.16075054]])},\n",
              " {'__header__': b'MATLAB 5.0 MAT-file, Platform: MACA64, Created on: Tue Nov  7 09:57:31 2023',\n",
              "  '__version__': '1.0',\n",
              "  '__globals__': [],\n",
              "  'ppg': array([[-1.81821307],\n",
              "         [-1.81821292],\n",
              "         [-1.81821272],\n",
              "         ...,\n",
              "         [-1.8182135 ],\n",
              "         [-1.8182135 ],\n",
              "         [-1.81821351]])},\n",
              " {'__header__': b'MATLAB 5.0 MAT-file, Platform: MACA64, Created on: Tue Nov  7 09:57:31 2023',\n",
              "  '__version__': '1.0',\n",
              "  '__globals__': [],\n",
              "  'ppg': array([[-2.78432008],\n",
              "         [-2.78426345],\n",
              "         [-2.78419949],\n",
              "         ...,\n",
              "         [-2.05752057],\n",
              "         [-2.98749863],\n",
              "         [-3.79324859]])},\n",
              " {'__header__': b'MATLAB 5.0 MAT-file, Platform: MACA64, Created on: Tue Nov  7 09:57:31 2023',\n",
              "  '__version__': '1.0',\n",
              "  '__globals__': [],\n",
              "  'ppg': array([[-1.605081],\n",
              "         [-1.605081],\n",
              "         [-1.605081],\n",
              "         ...,\n",
              "         [-1.605081],\n",
              "         [-1.605081],\n",
              "         [-1.605081]])},\n",
              " {'__header__': b'MATLAB 5.0 MAT-file, Platform: MACA64, Created on: Tue Nov  7 09:57:32 2023',\n",
              "  '__version__': '1.0',\n",
              "  '__globals__': [],\n",
              "  'ppg': array([[-1.86648838],\n",
              "         [-1.86648824],\n",
              "         [-1.86648807],\n",
              "         ...,\n",
              "         [ 0.02510867],\n",
              "         [ 0.11742498],\n",
              "         [ 0.21282652]])},\n",
              " {'__header__': b'MATLAB 5.0 MAT-file, Platform: MACA64, Created on: Tue Nov  7 09:57:32 2023',\n",
              "  '__version__': '1.0',\n",
              "  '__globals__': [],\n",
              "  'ppg': array([[-1.59853573],\n",
              "         [-1.59853573],\n",
              "         [-1.59853573],\n",
              "         ...,\n",
              "         [-1.90900064],\n",
              "         [-1.782135  ],\n",
              "         [-1.80201708]])},\n",
              " {'__header__': b'MATLAB 5.0 MAT-file, Platform: MACA64, Created on: Tue Nov  7 09:57:32 2023',\n",
              "  '__version__': '1.0',\n",
              "  '__globals__': [],\n",
              "  'ppg': array([[-1.5885062],\n",
              "         [-1.5885062],\n",
              "         [-1.5885062],\n",
              "         ...,\n",
              "         [-1.5885062],\n",
              "         [-1.5885062],\n",
              "         [-1.5885062]])},\n",
              " {'__header__': b'MATLAB 5.0 MAT-file, Platform: MACA64, Created on: Tue Nov  7 09:57:33 2023',\n",
              "  '__version__': '1.0',\n",
              "  '__globals__': [],\n",
              "  'ppg': array([[-1.76135164],\n",
              "         [-1.76134428],\n",
              "         [-1.76133466],\n",
              "         ...,\n",
              "         [-1.76102704],\n",
              "         [-1.76103489],\n",
              "         [-1.76104255]])},\n",
              " {'__header__': b'MATLAB 5.0 MAT-file, Platform: MACA64, Created on: Tue Nov  7 09:57:33 2023',\n",
              "  '__version__': '1.0',\n",
              "  '__globals__': [],\n",
              "  'ppg': array([[-2.84178608],\n",
              "         [-2.84173508],\n",
              "         [-2.84167843],\n",
              "         ...,\n",
              "         [-2.84207279],\n",
              "         [-2.8420767 ],\n",
              "         [-2.84208049]])},\n",
              " {'__header__': b'MATLAB 5.0 MAT-file, Platform: MACA64, Created on: Tue Nov  7 09:57:33 2023',\n",
              "  '__version__': '1.0',\n",
              "  '__globals__': [],\n",
              "  'ppg': array([[-1.5562451 ],\n",
              "         [-1.5562451 ],\n",
              "         [-1.5562451 ],\n",
              "         ...,\n",
              "         [-4.96004125],\n",
              "         [-5.05840253],\n",
              "         [-7.49116011]])},\n",
              " {'__header__': b'MATLAB 5.0 MAT-file, Platform: MACA64, Created on: Tue Nov  7 09:57:33 2023',\n",
              "  '__version__': '1.0',\n",
              "  '__globals__': [],\n",
              "  'ppg': array([[-1.95917358],\n",
              "         [-1.95916376],\n",
              "         [-1.95915239],\n",
              "         ...,\n",
              "         [-6.02922752],\n",
              "         [-4.69609851],\n",
              "         [-2.89462974]])},\n",
              " {'__header__': b'MATLAB 5.0 MAT-file, Platform: MACA64, Created on: Tue Nov  7 09:57:33 2023',\n",
              "  '__version__': '1.0',\n",
              "  '__globals__': [],\n",
              "  'ppg': array([[-2.02184599],\n",
              "         [-2.02183651],\n",
              "         [-2.02182554],\n",
              "         ...,\n",
              "         [-2.02157204],\n",
              "         [-2.02158162],\n",
              "         [-2.0215909 ]])},\n",
              " {'__header__': b'MATLAB 5.0 MAT-file, Platform: MACA64, Created on: Tue Nov  7 09:57:33 2023',\n",
              "  '__version__': '1.0',\n",
              "  '__globals__': [],\n",
              "  'ppg': array([[-1.95247976],\n",
              "         [-1.95247269],\n",
              "         [-1.95246457],\n",
              "         ...,\n",
              "         [ 4.24859964],\n",
              "         [ 3.71970524],\n",
              "         [ 3.3946859 ]])},\n",
              " {'__header__': b'MATLAB 5.0 MAT-file, Platform: MACA64, Created on: Tue Nov  7 09:57:33 2023',\n",
              "  '__version__': '1.0',\n",
              "  '__globals__': [],\n",
              "  'ppg': array([[-1.79209915],\n",
              "         [-1.79209883],\n",
              "         [-1.79209833],\n",
              "         ...,\n",
              "         [-1.79209977],\n",
              "         [-1.79209977],\n",
              "         [-1.79209977]])},\n",
              " {'__header__': b'MATLAB 5.0 MAT-file, Platform: MACA64, Created on: Tue Nov  7 09:57:34 2023',\n",
              "  '__version__': '1.0',\n",
              "  '__globals__': [],\n",
              "  'ppg': array([[-1.59489603],\n",
              "         [-1.59489603],\n",
              "         [-1.59489603],\n",
              "         ...,\n",
              "         [-1.59489603],\n",
              "         [-1.59489603],\n",
              "         [-1.59489603]])},\n",
              " {'__header__': b'MATLAB 5.0 MAT-file, Platform: MACA64, Created on: Tue Nov  7 09:57:34 2023',\n",
              "  '__version__': '1.0',\n",
              "  '__globals__': [],\n",
              "  'ppg': array([[-1.61963662],\n",
              "         [-1.61963662],\n",
              "         [-1.61963662],\n",
              "         ...,\n",
              "         [-2.38194645],\n",
              "         [-2.57453557],\n",
              "         [-2.60854179]])},\n",
              " {'__header__': b'MATLAB 5.0 MAT-file, Platform: MACA64, Created on: Tue Nov  7 09:57:34 2023',\n",
              "  '__version__': '1.0',\n",
              "  '__globals__': [],\n",
              "  'ppg': array([[-1.91073411],\n",
              "         [-1.91072335],\n",
              "         [-1.91071005],\n",
              "         ...,\n",
              "         [-0.80172088],\n",
              "         [ 0.92401164],\n",
              "         [ 0.68129721]])},\n",
              " {'__header__': b'MATLAB 5.0 MAT-file, Platform: MACA64, Created on: Tue Nov  7 09:57:34 2023',\n",
              "  '__version__': '1.0',\n",
              "  '__globals__': [],\n",
              "  'ppg': array([[-2.00696574],\n",
              "         [-2.00695862],\n",
              "         [-2.00695053],\n",
              "         ...,\n",
              "         [-1.8703747 ],\n",
              "         [-1.80837567],\n",
              "         [-1.78702257]])},\n",
              " {'__header__': b'MATLAB 5.0 MAT-file, Platform: MACA64, Created on: Tue Nov  7 09:57:34 2023',\n",
              "  '__version__': '1.0',\n",
              "  '__globals__': [],\n",
              "  'ppg': array([[-2.02636122],\n",
              "         [-2.0263507 ],\n",
              "         [-2.02633796],\n",
              "         ...,\n",
              "         [-2.02632135],\n",
              "         [-2.02632446],\n",
              "         [-2.02632746]])},\n",
              " {'__header__': b'MATLAB 5.0 MAT-file, Platform: MACA64, Created on: Tue Nov  7 09:57:34 2023',\n",
              "  '__version__': '1.0',\n",
              "  '__globals__': [],\n",
              "  'ppg': array([[-2.75603926],\n",
              "         [-2.75598295],\n",
              "         [-2.75591944],\n",
              "         ...,\n",
              "         [-1.88084665],\n",
              "         [-2.04033764],\n",
              "         [-2.20887272]])},\n",
              " {'__header__': b'MATLAB 5.0 MAT-file, Platform: MACA64, Created on: Tue Nov  7 09:57:34 2023',\n",
              "  '__version__': '1.0',\n",
              "  '__globals__': [],\n",
              "  'ppg': array([[-2.11797123],\n",
              "         [-2.11792751],\n",
              "         [-2.11787909],\n",
              "         ...,\n",
              "         [-2.11832104],\n",
              "         [-2.11832213],\n",
              "         [-2.11832317]])},\n",
              " {'__header__': b'MATLAB 5.0 MAT-file, Platform: MACA64, Created on: Tue Nov  7 09:57:34 2023',\n",
              "  '__version__': '1.0',\n",
              "  '__globals__': [],\n",
              "  'ppg': array([[-1.87731608],\n",
              "         [-1.8773159 ],\n",
              "         [-1.87731566],\n",
              "         ...,\n",
              "         [-1.87731662],\n",
              "         [-1.87731662],\n",
              "         [-1.87731662]])},\n",
              " {'__header__': b'MATLAB 5.0 MAT-file, Platform: MACA64, Created on: Tue Nov  7 09:57:34 2023',\n",
              "  '__version__': '1.0',\n",
              "  '__globals__': [],\n",
              "  'ppg': array([[-1.88866651],\n",
              "         [-1.88866632],\n",
              "         [-1.88866607],\n",
              "         ...,\n",
              "         [-1.88866707],\n",
              "         [-1.88866708],\n",
              "         [-1.88866708]])},\n",
              " {'__header__': b'MATLAB 5.0 MAT-file, Platform: MACA64, Created on: Tue Nov  7 09:57:35 2023',\n",
              "  '__version__': '1.0',\n",
              "  '__globals__': [],\n",
              "  'ppg': array([[-2.43215991],\n",
              "         [-2.43208698],\n",
              "         [-2.4320034 ],\n",
              "         ...,\n",
              "         [ 0.82541842],\n",
              "         [ 1.70428264],\n",
              "         [ 2.46383378]])},\n",
              " {'__header__': b'MATLAB 5.0 MAT-file, Platform: MACA64, Created on: Tue Nov  7 09:57:35 2023',\n",
              "  '__version__': '1.0',\n",
              "  '__globals__': [],\n",
              "  'ppg': array([[-1.61000068],\n",
              "         [-1.61000068],\n",
              "         [-1.61000068],\n",
              "         ...,\n",
              "         [-7.55945874],\n",
              "         [-6.20835442],\n",
              "         [-5.40123746]])},\n",
              " {'__header__': b'MATLAB 5.0 MAT-file, Platform: MACA64, Created on: Tue Nov  7 09:57:35 2023',\n",
              "  '__version__': '1.0',\n",
              "  '__globals__': [],\n",
              "  'ppg': array([[-2.17815289],\n",
              "         [-2.17812525],\n",
              "         [-2.17809364],\n",
              "         ...,\n",
              "         [-2.17401473],\n",
              "         [-2.17409078],\n",
              "         [-2.17416532]])},\n",
              " {'__header__': b'MATLAB 5.0 MAT-file, Platform: MACA64, Created on: Tue Nov  7 09:57:35 2023',\n",
              "  '__version__': '1.0',\n",
              "  '__globals__': [],\n",
              "  'ppg': array([[-2.41739088],\n",
              "         [-2.41736257],\n",
              "         [-2.41733014],\n",
              "         ...,\n",
              "         [-2.20709127],\n",
              "         [-1.51809068],\n",
              "         [-1.69302555]])},\n",
              " {'__header__': b'MATLAB 5.0 MAT-file, Platform: MACA64, Created on: Tue Nov  7 09:57:35 2023',\n",
              "  '__version__': '1.0',\n",
              "  '__globals__': [],\n",
              "  'ppg': array([[-2.56624865],\n",
              "         [-2.56619625],\n",
              "         [-2.56613642],\n",
              "         ...,\n",
              "         [-2.80144773],\n",
              "         [-3.01860046],\n",
              "         [-3.23605701]])},\n",
              " {'__header__': b'MATLAB 5.0 MAT-file, Platform: MACA64, Created on: Tue Nov  7 09:57:35 2023',\n",
              "  '__version__': '1.0',\n",
              "  '__globals__': [],\n",
              "  'ppg': array([[-2.21719788],\n",
              "         [-2.21716274],\n",
              "         [-2.21712144],\n",
              "         ...,\n",
              "         [-0.53554014],\n",
              "         [-0.36323342],\n",
              "         [-0.24849238]])},\n",
              " {'__header__': b'MATLAB 5.0 MAT-file, Platform: MACA64, Created on: Tue Nov  7 09:57:35 2023',\n",
              "  '__version__': '1.0',\n",
              "  '__globals__': [],\n",
              "  'ppg': array([[ -2.51606698],\n",
              "         [ -2.5160113 ],\n",
              "         [ -2.51594782],\n",
              "         ...,\n",
              "         [-12.12383141],\n",
              "         [-12.46062499],\n",
              "         [-12.64152793]])},\n",
              " {'__header__': b'MATLAB 5.0 MAT-file, Platform: MACA64, Created on: Tue Nov  7 09:57:35 2023',\n",
              "  '__version__': '1.0',\n",
              "  '__globals__': [],\n",
              "  'ppg': array([[-1.88071963],\n",
              "         [-1.88071946],\n",
              "         [-1.88071924],\n",
              "         ...,\n",
              "         [-2.36140627],\n",
              "         [-3.27168585],\n",
              "         [-0.84557632]])},\n",
              " {'__header__': b'MATLAB 5.0 MAT-file, Platform: MACA64, Created on: Tue Nov  7 09:57:36 2023',\n",
              "  '__version__': '1.0',\n",
              "  '__globals__': [],\n",
              "  'ppg': array([[-2.37271823],\n",
              "         [-2.37266406],\n",
              "         [-2.37259747],\n",
              "         ...,\n",
              "         [-1.95677644],\n",
              "         [-1.31072946],\n",
              "         [-1.99101417]])},\n",
              " {'__header__': b'MATLAB 5.0 MAT-file, Platform: MACA64, Created on: Tue Nov  7 09:57:36 2023',\n",
              "  '__version__': '1.0',\n",
              "  '__globals__': [],\n",
              "  'ppg': array([[-1.98234726],\n",
              "         [-1.98233882],\n",
              "         [-1.98232786],\n",
              "         ...,\n",
              "         [-1.98216442],\n",
              "         [-1.98217104],\n",
              "         [-1.98217743]])},\n",
              " {'__header__': b'MATLAB 5.0 MAT-file, Platform: MACA64, Created on: Tue Nov  7 09:57:36 2023',\n",
              "  '__version__': '1.0',\n",
              "  '__globals__': [],\n",
              "  'ppg': array([[-2.469272  ],\n",
              "         [-2.46922243],\n",
              "         [-2.46916616],\n",
              "         ...,\n",
              "         [-2.46957188],\n",
              "         [-2.46957329],\n",
              "         [-2.46957465]])},\n",
              " {'__header__': b'MATLAB 5.0 MAT-file, Platform: MACA64, Created on: Tue Nov  7 09:57:36 2023',\n",
              "  '__version__': '1.0',\n",
              "  '__globals__': [],\n",
              "  'ppg': array([[-2.30160398],\n",
              "         [-2.30158723],\n",
              "         [-2.30156912],\n",
              "         ...,\n",
              "         [-2.2709461 ],\n",
              "         [-2.27384783],\n",
              "         [-2.26903382]])},\n",
              " {'__header__': b'MATLAB 5.0 MAT-file, Platform: MACA64, Created on: Tue Nov  7 09:57:37 2023',\n",
              "  '__version__': '1.0',\n",
              "  '__globals__': [],\n",
              "  'ppg': array([[-1.90161317],\n",
              "         [-1.90161306],\n",
              "         [-1.90161294],\n",
              "         ...,\n",
              "         [-1.90161291],\n",
              "         [-1.90161295],\n",
              "         [-1.90161298]])},\n",
              " {'__header__': b'MATLAB 5.0 MAT-file, Platform: MACA64, Created on: Tue Nov  7 09:57:37 2023',\n",
              "  '__version__': '1.0',\n",
              "  '__globals__': [],\n",
              "  'ppg': array([[-1.90042404],\n",
              "         [-1.90042391],\n",
              "         [-1.90042376],\n",
              "         ...,\n",
              "         [-1.90042396],\n",
              "         [-1.90042399],\n",
              "         [-1.90042401]])},\n",
              " {'__header__': b'MATLAB 5.0 MAT-file, Platform: MACA64, Created on: Tue Nov  7 09:57:37 2023',\n",
              "  '__version__': '1.0',\n",
              "  '__globals__': [],\n",
              "  'ppg': array([[-2.69036   ],\n",
              "         [-2.69031554],\n",
              "         [-2.69026462],\n",
              "         ...,\n",
              "         [ 6.70135321],\n",
              "         [ 7.0942836 ],\n",
              "         [ 7.03416793]])},\n",
              " {'__header__': b'MATLAB 5.0 MAT-file, Platform: MACA64, Created on: Tue Nov  7 09:57:37 2023',\n",
              "  '__version__': '1.0',\n",
              "  '__globals__': [],\n",
              "  'ppg': array([[-2.34629091],\n",
              "         [-2.34625014],\n",
              "         [-2.34619797],\n",
              "         ...,\n",
              "         [-2.34484932],\n",
              "         [-2.34488558],\n",
              "         [-2.34492091]])},\n",
              " {'__header__': b'MATLAB 5.0 MAT-file, Platform: MACA64, Created on: Tue Nov  7 09:57:37 2023',\n",
              "  '__version__': '1.0',\n",
              "  '__globals__': [],\n",
              "  'ppg': array([[-2.77368906],\n",
              "         [-2.77363022],\n",
              "         [-2.77356394],\n",
              "         ...,\n",
              "         [-2.77407914],\n",
              "         [-2.77408066],\n",
              "         [-2.77408213]])},\n",
              " {'__header__': b'MATLAB 5.0 MAT-file, Platform: MACA64, Created on: Tue Nov  7 09:57:37 2023',\n",
              "  '__version__': '1.0',\n",
              "  '__globals__': [],\n",
              "  'ppg': array([[-1.6103281],\n",
              "         [-1.6103281],\n",
              "         [-1.6103281],\n",
              "         ...,\n",
              "         [-1.6103281],\n",
              "         [-1.6103281],\n",
              "         [-1.6103281]])},\n",
              " {'__header__': b'MATLAB 5.0 MAT-file, Platform: MACA64, Created on: Tue Nov  7 09:57:37 2023',\n",
              "  '__version__': '1.0',\n",
              "  '__globals__': [],\n",
              "  'ppg': array([[-1.6057339 ],\n",
              "         [-1.6057339 ],\n",
              "         [-1.6057339 ],\n",
              "         ...,\n",
              "         [-1.6989707 ],\n",
              "         [-1.76287236],\n",
              "         [-1.80213838]])},\n",
              " {'__header__': b'MATLAB 5.0 MAT-file, Platform: MACA64, Created on: Tue Nov  7 09:57:37 2023',\n",
              "  '__version__': '1.0',\n",
              "  '__globals__': [],\n",
              "  'ppg': array([[ -1.586502  ],\n",
              "         [ -1.586502  ],\n",
              "         [ -1.586502  ],\n",
              "         ...,\n",
              "         [ -8.77089894],\n",
              "         [ -9.65335286],\n",
              "         [-10.45686778]])},\n",
              " {'__header__': b'MATLAB 5.0 MAT-file, Platform: MACA64, Created on: Tue Nov  7 09:57:43 2023',\n",
              "  '__version__': '1.0',\n",
              "  '__globals__': [],\n",
              "  'ppg': array([[-1.97547163],\n",
              "         [-1.97546698],\n",
              "         [-1.97546175],\n",
              "         ...,\n",
              "         [ 0.89273874],\n",
              "         [ 0.6372119 ],\n",
              "         [ 0.37122067]])},\n",
              " {'__header__': b'MATLAB 5.0 MAT-file, Platform: MACA64, Created on: Tue Nov  7 09:57:48 2023',\n",
              "  '__version__': '1.0',\n",
              "  '__globals__': [],\n",
              "  'ppg': array([[-1.62045278],\n",
              "         [-1.62045278],\n",
              "         [-1.62045278],\n",
              "         ...,\n",
              "         [ 0.97152604],\n",
              "         [ 0.71243596],\n",
              "         [ 0.486468  ]])},\n",
              " {'__header__': b'MATLAB 5.0 MAT-file, Platform: MACA64, Created on: Tue Nov  7 09:57:52 2023',\n",
              "  '__version__': '1.0',\n",
              "  '__globals__': [],\n",
              "  'ppg': array([[-1.88958947],\n",
              "         [-1.88958941],\n",
              "         [-1.88958935],\n",
              "         ...,\n",
              "         [ 0.18583284],\n",
              "         [ 0.17815724],\n",
              "         [ 0.17119918]])},\n",
              " {'__header__': b'MATLAB 5.0 MAT-file, Platform: MACA64, Created on: Tue Nov  7 09:57:57 2023',\n",
              "  '__version__': '1.0',\n",
              "  '__globals__': [],\n",
              "  'ppg': array([[-1.82808156],\n",
              "         [-1.82808149],\n",
              "         [-1.82808141],\n",
              "         ...,\n",
              "         [ 0.57002712],\n",
              "         [ 0.69119801],\n",
              "         [ 0.80701922]])},\n",
              " {'__header__': b'MATLAB 5.0 MAT-file, Platform: MACA64, Created on: Tue Nov  7 09:58:01 2023',\n",
              "  '__version__': '1.0',\n",
              "  '__globals__': [],\n",
              "  'ppg': array([[-1.89237652],\n",
              "         [-1.89237645],\n",
              "         [-1.89237638],\n",
              "         ...,\n",
              "         [-1.28111668],\n",
              "         [-1.29274998],\n",
              "         [-1.3039406 ]])},\n",
              " {'__header__': b'MATLAB 5.0 MAT-file, Platform: MACA64, Created on: Tue Nov  7 09:58:06 2023',\n",
              "  '__version__': '1.0',\n",
              "  '__globals__': [],\n",
              "  'ppg': array([[-1.60240503],\n",
              "         [-1.60240503],\n",
              "         [-1.60240503],\n",
              "         ...,\n",
              "         [-3.56948646],\n",
              "         [-4.82914903],\n",
              "         [-6.0966494 ]])},\n",
              " {'__header__': b'MATLAB 5.0 MAT-file, Platform: MACA64, Created on: Tue Nov  7 09:58:10 2023',\n",
              "  '__version__': '1.0',\n",
              "  '__globals__': [],\n",
              "  'ppg': array([[-2.73488211],\n",
              "         [-2.73485557],\n",
              "         [-2.7348275 ],\n",
              "         ...,\n",
              "         [ 0.74253712],\n",
              "         [ 0.71339738],\n",
              "         [ 0.68479866]])},\n",
              " {'__header__': b'MATLAB 5.0 MAT-file, Platform: MACA64, Created on: Tue Nov  7 09:58:15 2023',\n",
              "  '__version__': '1.0',\n",
              "  '__globals__': [],\n",
              "  'ppg': array([[-1.99796855],\n",
              "         [-1.99796576],\n",
              "         [-1.9979628 ],\n",
              "         ...,\n",
              "         [ 9.42115992],\n",
              "         [ 8.71587563],\n",
              "         [ 7.99515032]])},\n",
              " {'__header__': b'MATLAB 5.0 MAT-file, Platform: MACA64, Created on: Tue Nov  7 09:58:19 2023',\n",
              "  '__version__': '1.0',\n",
              "  '__globals__': [],\n",
              "  'ppg': array([[-2.00563463],\n",
              "         [-2.00563076],\n",
              "         [-2.00562658],\n",
              "         ...,\n",
              "         [-0.48949008],\n",
              "         [-0.38306784],\n",
              "         [-0.27757024]])},\n",
              " {'__header__': b'MATLAB 5.0 MAT-file, Platform: MACA64, Created on: Tue Nov  7 09:58:24 2023',\n",
              "  '__version__': '1.0',\n",
              "  '__globals__': [],\n",
              "  'ppg': array([[-1.89729749],\n",
              "         [-1.89729741],\n",
              "         [-1.89729732],\n",
              "         ...,\n",
              "         [-0.48280915],\n",
              "         [-0.50818152],\n",
              "         [-0.53412989]])},\n",
              " {'__header__': b'MATLAB 5.0 MAT-file, Platform: MACA64, Created on: Tue Nov  7 09:58:29 2023',\n",
              "  '__version__': '1.0',\n",
              "  '__globals__': [],\n",
              "  'ppg': array([[-2.03660382],\n",
              "         [-2.03660018],\n",
              "         [-2.03659628],\n",
              "         ...,\n",
              "         [ 1.34319426],\n",
              "         [ 1.30856628],\n",
              "         [ 1.27237424]])},\n",
              " {'__header__': b'MATLAB 5.0 MAT-file, Platform: MACA64, Created on: Tue Nov  7 09:58:34 2023',\n",
              "  '__version__': '1.0',\n",
              "  '__globals__': [],\n",
              "  'ppg': array([[-2.0001227 ],\n",
              "         [-2.00011925],\n",
              "         [-2.00011557],\n",
              "         ...,\n",
              "         [-3.43998434],\n",
              "         [-4.57702877],\n",
              "         [-4.90057663]])},\n",
              " {'__header__': b'MATLAB 5.0 MAT-file, Platform: MACA64, Created on: Tue Nov  7 09:58:38 2023',\n",
              "  '__version__': '1.0',\n",
              "  '__globals__': [],\n",
              "  'ppg': array([[-1.62223124],\n",
              "         [-1.62223124],\n",
              "         [-1.62223124],\n",
              "         ...,\n",
              "         [ 1.63162761],\n",
              "         [ 1.57729595],\n",
              "         [ 1.52094289]])},\n",
              " {'__header__': b'MATLAB 5.0 MAT-file, Platform: MACA64, Created on: Tue Nov  7 09:58:43 2023',\n",
              "  '__version__': '1.0',\n",
              "  '__globals__': [],\n",
              "  'ppg': array([[-1.89446695],\n",
              "         [-1.8944669 ],\n",
              "         [-1.89446684],\n",
              "         ...,\n",
              "         [ 4.82152076],\n",
              "         [ 5.26072325],\n",
              "         [ 5.45373476]])},\n",
              " {'__header__': b'MATLAB 5.0 MAT-file, Platform: MACA64, Created on: Tue Nov  7 09:58:48 2023',\n",
              "  '__version__': '1.0',\n",
              "  '__globals__': [],\n",
              "  'ppg': array([[-1.59545758],\n",
              "         [-1.59545758],\n",
              "         [-1.59545758],\n",
              "         ...,\n",
              "         [-0.14763258],\n",
              "         [-1.59874021],\n",
              "         [-1.81448571]])},\n",
              " {'__header__': b'MATLAB 5.0 MAT-file, Platform: MACA64, Created on: Tue Nov  7 09:58:53 2023',\n",
              "  '__version__': '1.0',\n",
              "  '__globals__': [],\n",
              "  'ppg': array([[-1.87347864],\n",
              "         [-1.87347857],\n",
              "         [-1.87347849],\n",
              "         ...,\n",
              "         [ 1.02270567],\n",
              "         [ 0.9621904 ],\n",
              "         [ 0.90032896]])},\n",
              " {'__header__': b'MATLAB 5.0 MAT-file, Platform: MACA64, Created on: Tue Nov  7 09:58:58 2023',\n",
              "  '__version__': '1.0',\n",
              "  '__globals__': [],\n",
              "  'ppg': array([[-2.02921375],\n",
              "         [-2.02920952],\n",
              "         [-2.02920496],\n",
              "         ...,\n",
              "         [-0.60467688],\n",
              "         [-0.49005098],\n",
              "         [-0.37222418]])},\n",
              " {'__header__': b'MATLAB 5.0 MAT-file, Platform: MACA64, Created on: Tue Nov  7 09:59:03 2023',\n",
              "  '__version__': '1.0',\n",
              "  '__globals__': [],\n",
              "  'ppg': array([[-1.85714408],\n",
              "         [-1.85714402],\n",
              "         [-1.85714395],\n",
              "         ...,\n",
              "         [ 1.2206346 ],\n",
              "         [ 1.30163116],\n",
              "         [ 1.37702495]])},\n",
              " {'__header__': b'MATLAB 5.0 MAT-file, Platform: MACA64, Created on: Tue Nov  7 09:59:08 2023',\n",
              "  '__version__': '1.0',\n",
              "  '__globals__': [],\n",
              "  'ppg': array([[-1.89886351],\n",
              "         [-1.89886346],\n",
              "         [-1.8988634 ],\n",
              "         ...,\n",
              "         [-1.43763304],\n",
              "         [-1.44615681],\n",
              "         [-1.45416007]])},\n",
              " {'__header__': b'MATLAB 5.0 MAT-file, Platform: MACA64, Created on: Tue Nov  7 09:59:13 2023',\n",
              "  '__version__': '1.0',\n",
              "  '__globals__': [],\n",
              "  'ppg': array([[-1.62902246],\n",
              "         [-1.62902246],\n",
              "         [-1.62902246],\n",
              "         ...,\n",
              "         [ 4.13468782],\n",
              "         [ 3.73180018],\n",
              "         [ 4.62394983]])},\n",
              " {'__header__': b'MATLAB 5.0 MAT-file, Platform: MACA64, Created on: Tue Nov  7 09:59:17 2023',\n",
              "  '__version__': '1.0',\n",
              "  '__globals__': [],\n",
              "  'ppg': array([[-1.61545787],\n",
              "         [-1.61545787],\n",
              "         [-1.61545787],\n",
              "         ...,\n",
              "         [-0.53800161],\n",
              "         [-0.69512786],\n",
              "         [-0.88746728]])},\n",
              " {'__header__': b'MATLAB 5.0 MAT-file, Platform: MACA64, Created on: Tue Nov  7 09:59:22 2023',\n",
              "  '__version__': '1.0',\n",
              "  '__globals__': [],\n",
              "  'ppg': array([[-1.90619688],\n",
              "         [-1.90619683],\n",
              "         [-1.90619676],\n",
              "         ...,\n",
              "         [-5.78169415],\n",
              "         [-4.88961823],\n",
              "         [-4.5530757 ]])},\n",
              " {'__header__': b'MATLAB 5.0 MAT-file, Platform: MACA64, Created on: Tue Nov  7 09:59:26 2023',\n",
              "  '__version__': '1.0',\n",
              "  '__globals__': [],\n",
              "  'ppg': array([[-1.58803542],\n",
              "         [-1.58803542],\n",
              "         [-1.58803542],\n",
              "         ...,\n",
              "         [ 2.02565497],\n",
              "         [ 1.98506781],\n",
              "         [ 1.93942176]])},\n",
              " {'__header__': b'MATLAB 5.0 MAT-file, Platform: MACA64, Created on: Tue Nov  7 09:59:31 2023',\n",
              "  '__version__': '1.0',\n",
              "  '__globals__': [],\n",
              "  'ppg': array([[-2.68100489],\n",
              "         [-2.68096813],\n",
              "         [-2.68092856],\n",
              "         ...,\n",
              "         [-0.50905769],\n",
              "         [-0.54228426],\n",
              "         [-0.57566911]])},\n",
              " {'__header__': b'MATLAB 5.0 MAT-file, Platform: MACA64, Created on: Tue Nov  7 09:59:36 2023',\n",
              "  '__version__': '1.0',\n",
              "  '__globals__': [],\n",
              "  'ppg': array([[-1.61276318],\n",
              "         [-1.61276318],\n",
              "         [-1.61276318],\n",
              "         ...,\n",
              "         [-0.18533662],\n",
              "         [ 0.37906464],\n",
              "         [-0.17751355]])},\n",
              " {'__header__': b'MATLAB 5.0 MAT-file, Platform: MACA64, Created on: Tue Nov  7 09:59:40 2023',\n",
              "  '__version__': '1.0',\n",
              "  '__globals__': [],\n",
              "  'ppg': array([[-1.86031877],\n",
              "         [-1.86031871],\n",
              "         [-1.86031864],\n",
              "         ...,\n",
              "         [15.38625982],\n",
              "         [14.35132895],\n",
              "         [13.18403952]])},\n",
              " {'__header__': b'MATLAB 5.0 MAT-file, Platform: MACA64, Created on: Tue Nov  7 09:59:45 2023',\n",
              "  '__version__': '1.0',\n",
              "  '__globals__': [],\n",
              "  'ppg': array([[-1.85940245],\n",
              "         [-1.8594024 ],\n",
              "         [-1.85940234],\n",
              "         ...,\n",
              "         [-3.50915156],\n",
              "         [-3.59317326],\n",
              "         [-3.54817492]])},\n",
              " {'__header__': b'MATLAB 5.0 MAT-file, Platform: MACA64, Created on: Tue Nov  7 09:59:50 2023',\n",
              "  '__version__': '1.0',\n",
              "  '__globals__': [],\n",
              "  'ppg': array([[-2.00951507],\n",
              "         [-2.00951122],\n",
              "         [-2.00950703],\n",
              "         ...,\n",
              "         [-1.54227657],\n",
              "         [-1.55468069],\n",
              "         [-1.56672961]])},\n",
              " {'__header__': b'MATLAB 5.0 MAT-file, Platform: MACA64, Created on: Tue Nov  7 09:59:55 2023',\n",
              "  '__version__': '1.0',\n",
              "  '__globals__': [],\n",
              "  'ppg': array([[-1.94630539],\n",
              "         [-1.94630113],\n",
              "         [-1.94629645],\n",
              "         ...,\n",
              "         [-0.61705771],\n",
              "         [-0.6382719 ],\n",
              "         [-0.65952298]])},\n",
              " {'__header__': b'MATLAB 5.0 MAT-file, Platform: MACA64, Created on: Tue Nov  7 10:00:00 2023',\n",
              "  '__version__': '1.0',\n",
              "  '__globals__': [],\n",
              "  'ppg': array([[-2.01857612],\n",
              "         [-2.01857236],\n",
              "         [-2.01856833],\n",
              "         ...,\n",
              "         [-0.84707053],\n",
              "         [-0.57910129],\n",
              "         [-0.05679773]])},\n",
              " {'__header__': b'MATLAB 5.0 MAT-file, Platform: MACA64, Created on: Tue Nov  7 10:00:04 2023',\n",
              "  '__version__': '1.0',\n",
              "  '__globals__': [],\n",
              "  'ppg': array([[-1.91865598],\n",
              "         [-1.91865594],\n",
              "         [-1.91865589],\n",
              "         ...,\n",
              "         [ 0.16432783],\n",
              "         [ 0.17439306],\n",
              "         [ 0.18413518]])},\n",
              " {'__header__': b'MATLAB 5.0 MAT-file, Platform: MACA64, Created on: Tue Nov  7 10:00:09 2023',\n",
              "  '__version__': '1.0',\n",
              "  '__globals__': [],\n",
              "  'ppg': array([[ -1.58848824],\n",
              "         [ -1.58848824],\n",
              "         [ -1.58848824],\n",
              "         ...,\n",
              "         [-13.18413048],\n",
              "         [-13.02440715],\n",
              "         [-12.93423605]])},\n",
              " {'__header__': b'MATLAB 5.0 MAT-file, Platform: MACA64, Created on: Tue Nov  7 10:00:13 2023',\n",
              "  '__version__': '1.0',\n",
              "  '__globals__': [],\n",
              "  'ppg': array([[-2.05432057],\n",
              "         [-2.05431715],\n",
              "         [-2.05431348],\n",
              "         ...,\n",
              "         [83.38421962],\n",
              "         [82.65355829],\n",
              "         [80.87570351]])},\n",
              " {'__header__': b'MATLAB 5.0 MAT-file, Platform: MACA64, Created on: Tue Nov  7 10:00:18 2023',\n",
              "  '__version__': '1.0',\n",
              "  '__globals__': [],\n",
              "  'ppg': array([[-2.0350231 ],\n",
              "         [-2.03501942],\n",
              "         [-2.03501549],\n",
              "         ...,\n",
              "         [-1.10136478],\n",
              "         [-1.11493037],\n",
              "         [-1.12816966]])},\n",
              " {'__header__': b'MATLAB 5.0 MAT-file, Platform: MACA64, Created on: Tue Nov  7 10:00:23 2023',\n",
              "  '__version__': '1.0',\n",
              "  '__globals__': [],\n",
              "  'ppg': array([[-1.60795585],\n",
              "         [-1.60795585],\n",
              "         [-1.60795585],\n",
              "         ...,\n",
              "         [ 0.00623943],\n",
              "         [-0.01811628],\n",
              "         [-0.03842683]])},\n",
              " {'__header__': b'MATLAB 5.0 MAT-file, Platform: MACA64, Created on: Tue Nov  7 10:00:28 2023',\n",
              "  '__version__': '1.0',\n",
              "  '__globals__': [],\n",
              "  'ppg': array([[-1.88161783],\n",
              "         [-1.88161777],\n",
              "         [-1.88161771],\n",
              "         ...,\n",
              "         [ 1.76729584],\n",
              "         [ 1.80340798],\n",
              "         [ 1.83620308]])},\n",
              " {'__header__': b'MATLAB 5.0 MAT-file, Platform: MACA64, Created on: Tue Nov  7 10:00:33 2023',\n",
              "  '__version__': '1.0',\n",
              "  '__globals__': [],\n",
              "  'ppg': array([[-1.8855501 ],\n",
              "         [-1.88555004],\n",
              "         [-1.88554997],\n",
              "         ...,\n",
              "         [-0.69705565],\n",
              "         [-0.72011565],\n",
              "         [-0.74310604]])},\n",
              " {'__header__': b'MATLAB 5.0 MAT-file, Platform: MACA64, Created on: Tue Nov  7 10:00:37 2023',\n",
              "  '__version__': '1.0',\n",
              "  '__globals__': [],\n",
              "  'ppg': array([[-1.89374879],\n",
              "         [-1.89374874],\n",
              "         [-1.89374868],\n",
              "         ...,\n",
              "         [ 0.91671602],\n",
              "         [ 1.00568043],\n",
              "         [ 1.08897644]])},\n",
              " {'__header__': b'MATLAB 5.0 MAT-file, Platform: MACA64, Created on: Tue Nov  7 10:00:42 2023',\n",
              "  '__version__': '1.0',\n",
              "  '__globals__': [],\n",
              "  'ppg': array([[-1.59364841],\n",
              "         [-1.59364841],\n",
              "         [-1.59364841],\n",
              "         ...,\n",
              "         [ 0.06557594],\n",
              "         [ 0.06810869],\n",
              "         [ 0.06969828]])},\n",
              " {'__header__': b'MATLAB 5.0 MAT-file, Platform: MACA64, Created on: Tue Nov  7 10:00:47 2023',\n",
              "  '__version__': '1.0',\n",
              "  '__globals__': [],\n",
              "  'ppg': array([[-1.61849421],\n",
              "         [-1.61849421],\n",
              "         [-1.61849421],\n",
              "         ...,\n",
              "         [ 0.74149282],\n",
              "         [ 0.83153116],\n",
              "         [ 0.91074586]])},\n",
              " {'__header__': b'MATLAB 5.0 MAT-file, Platform: MACA64, Created on: Tue Nov  7 10:00:51 2023',\n",
              "  '__version__': '1.0',\n",
              "  '__globals__': [],\n",
              "  'ppg': array([[-1.60638413],\n",
              "         [-1.60638413],\n",
              "         [-1.60638413],\n",
              "         ...,\n",
              "         [-1.14437846],\n",
              "         [-1.16984146],\n",
              "         [-1.19442198]])},\n",
              " {'__header__': b'MATLAB 5.0 MAT-file, Platform: MACA64, Created on: Tue Nov  7 10:00:55 2023',\n",
              "  '__version__': '1.0',\n",
              "  '__globals__': [],\n",
              "  'ppg': array([[-2.75613912],\n",
              "         [-2.75611074],\n",
              "         [-2.75608046],\n",
              "         ...,\n",
              "         [-0.81640675],\n",
              "         [-0.84117484],\n",
              "         [-0.86586426]])},\n",
              " {'__header__': b'MATLAB 5.0 MAT-file, Platform: MACA64, Created on: Tue Nov  7 10:01:00 2023',\n",
              "  '__version__': '1.0',\n",
              "  '__globals__': [],\n",
              "  'ppg': array([[-1.60925542],\n",
              "         [-1.60925542],\n",
              "         [-1.60925542],\n",
              "         ...,\n",
              "         [-1.00945362],\n",
              "         [-1.03312222],\n",
              "         [-1.05403405]])}]"
            ]
          },
          "metadata": {},
          "execution_count": 13
        }
      ]
    },
    {
      "cell_type": "code",
      "source": [
        "# Function to check if all annotations are 'N'\n",
        "def all_annotations_N(annotations):\n",
        "    labels = annotations.get('labels', [])\n",
        "    return all(label == 'N' for label in labels)\n",
        "\n",
        "# Collect file names with all 'N' annotations\n",
        "files_with_all_N = [os.path.basename(data[i]) for i, ann in enumerate(ann_data) if all_annotations_N(ann)]\n",
        "\n",
        "# Print file names with all 'N' annotations\n",
        "print(\"Files with all 'N' annotations:\", files_with_all_N)"
      ],
      "metadata": {
        "id": "V-K19fdsi3L6",
        "colab": {
          "base_uri": "https://localhost:8080/"
        },
        "outputId": "e0a7647c-0ea6-42a7-c4ff-9bb4b671a273"
      },
      "execution_count": null,
      "outputs": [
        {
          "output_type": "stream",
          "name": "stdout",
          "text": [
            "Files with all 'N' annotations: ['S085_250.mat', 'S092_250.mat', 'S095_250.mat', 'S096_250.mat', 'S104_250.mat', 'S105_250.mat', 'S107_250.mat', 'S108_250.mat', 'S110_250.mat', 'S111_250.mat', 'S115_250.mat', 'S119_250.mat', 'S120_250.mat', 'S121_250.mat']\n"
          ]
        }
      ]
    },
    {
      "cell_type": "code",
      "source": [
        "files_with_all_N"
      ],
      "metadata": {
        "id": "rI6hgFnfi4bo",
        "colab": {
          "base_uri": "https://localhost:8080/"
        },
        "outputId": "27373d51-3452-4bba-aca5-3b2f20603dd2"
      },
      "execution_count": null,
      "outputs": [
        {
          "output_type": "execute_result",
          "data": {
            "text/plain": [
              "['S085_250.mat',\n",
              " 'S092_250.mat',\n",
              " 'S095_250.mat',\n",
              " 'S096_250.mat',\n",
              " 'S104_250.mat',\n",
              " 'S105_250.mat',\n",
              " 'S107_250.mat',\n",
              " 'S108_250.mat',\n",
              " 'S110_250.mat',\n",
              " 'S111_250.mat',\n",
              " 'S115_250.mat',\n",
              " 'S119_250.mat',\n",
              " 'S120_250.mat',\n",
              " 'S121_250.mat']"
            ]
          },
          "metadata": {},
          "execution_count": 15
        }
      ]
    },
    {
      "cell_type": "code",
      "source": [
        "count_files_with_all_N = len(files_with_all_N)\n",
        "count_files_with_all_N\n"
      ],
      "metadata": {
        "id": "o8YjwBsEi5ly",
        "colab": {
          "base_uri": "https://localhost:8080/"
        },
        "outputId": "2d255ead-9b34-4d62-94b6-f8e465fdcfab"
      },
      "execution_count": null,
      "outputs": [
        {
          "output_type": "execute_result",
          "data": {
            "text/plain": [
              "14"
            ]
          },
          "metadata": {},
          "execution_count": 16
        }
      ]
    },
    {
      "cell_type": "code",
      "source": [
        "import scipy.io\n",
        "# Load the .mat file\n",
        "mat_file_path = '/gdrive/My Drive/train/S121_250_ann.mat'\n",
        "mat_contents = scipy.io.loadmat(mat_file_path)\n",
        "\n",
        "# Extract the 'labels' data\n",
        "labels_data = mat_contents['labels']\n",
        "\n",
        "# Display the contents of 'labels'\n",
        "print(labels_data[2200:2500])  # View the first 100 entries\n"
      ],
      "metadata": {
        "id": "FRMQSnG2i6iZ",
        "colab": {
          "base_uri": "https://localhost:8080/"
        },
        "outputId": "48d4c0a8-9ca6-491e-ef0b-fe214fc737bf"
      },
      "execution_count": null,
      "outputs": [
        {
          "output_type": "stream",
          "name": "stdout",
          "text": [
            "['N' 'N' 'N' 'N' 'N' 'N' 'N' 'N' 'N' 'N' 'N' 'N' 'N' 'N' 'N' 'N' 'N' 'N'\n",
            " 'N' 'N' 'N' 'N' 'N' 'N' 'N' 'N' 'N' 'N' 'N' 'N' 'N' 'N' 'N' 'N' 'N' 'N'\n",
            " 'N' 'N' 'N' 'N' 'N' 'N' 'N' 'N' 'N' 'N' 'N' 'N' 'N' 'N' 'N' 'N' 'N' 'N'\n",
            " 'N' 'N' 'N' 'N' 'N' 'N' 'N' 'N' 'N' 'N' 'N' 'N' 'N' 'N' 'N' 'N' 'N' 'N'\n",
            " 'N' 'N' 'N' 'N' 'N' 'N' 'N' 'N' 'N' 'N' 'N' 'N' 'N' 'N' 'N' 'N' 'N' 'N'\n",
            " 'N' 'N' 'N' 'N' 'N' 'N' 'N' 'N' 'N' 'N' 'N' 'N' 'N' 'N' 'N' 'N' 'N' 'N'\n",
            " 'N' 'N' 'N' 'N' 'N' 'N' 'N' 'N' 'N' 'N' 'N' 'N' 'N' 'N' 'N' 'N' 'N' 'N'\n",
            " 'N' 'N' 'N' 'N' 'N' 'N' 'N' 'N' 'N' 'N' 'N' 'N' 'N' 'N' 'N' 'N' 'N' 'N'\n",
            " 'N' 'N' 'N' 'N' 'N' 'N' 'N' 'N' 'N' 'N' 'N' 'N' 'N' 'N' 'N' 'N' 'N' 'N'\n",
            " 'N' 'N' 'N' 'N' 'N' 'N' 'N' 'N' 'N' 'N' 'N' 'N' 'N' 'N' 'N' 'N' 'N' 'N'\n",
            " 'N' 'N' 'N' 'N' 'N' 'N' 'N' 'N' 'N' 'N' 'N' 'N' 'N' 'N' 'N' 'N' 'N' 'N'\n",
            " 'N' 'N' 'N' 'N' 'N' 'N' 'N' 'N' 'N' 'N' 'N' 'N' 'N' 'N' 'N' 'N' 'N' 'N'\n",
            " 'N' 'N' 'N' 'N' 'N' 'N' 'N' 'N' 'N' 'N' 'N' 'N' 'N' 'N' 'N' 'N' 'N' 'N'\n",
            " 'N' 'N' 'N' 'N' 'N' 'N' 'N' 'N' 'N' 'N' 'N' 'N' 'N' 'N' 'N' 'N' 'N' 'N'\n",
            " 'N' 'N' 'N' 'N' 'N' 'N' 'N' 'N' 'N' 'N' 'N' 'N' 'N' 'N' 'N' 'N' 'N' 'N'\n",
            " 'N' 'N' 'N' 'N' 'N' 'N' 'N' 'N' 'N' 'N' 'N' 'N' 'N' 'N' 'N' 'N' 'N' 'N'\n",
            " 'N' 'N' 'N' 'N' 'N' 'N' 'N' 'N' 'N' 'N' 'N' 'N']\n"
          ]
        }
      ]
    },
    {
      "cell_type": "code",
      "source": [
        "filtered_files_updated = [file for file in filtered_files if os.path.basename(file) not in files_with_all_N]\n",
        "\n",
        "# Print the updated list of filtered files\n",
        "print(\"Updated filtered files:\", filtered_files_updated)"
      ],
      "metadata": {
        "id": "okJBY_wXi7wx",
        "colab": {
          "base_uri": "https://localhost:8080/"
        },
        "outputId": "8ac761c7-d160-4155-82f6-6aa5cfe9fb7d"
      },
      "execution_count": null,
      "outputs": [
        {
          "output_type": "stream",
          "name": "stdout",
          "text": [
            "Updated filtered files: ['S001_128.mat', 'S002_128.mat', 'S003_128.mat', 'S004_128.mat', 'S005_128.mat', 'S006_128.mat', 'S007_128.mat', 'S008_128.mat', 'S009_128.mat', 'S010_128.mat', 'S011_128.mat', 'S012_128.mat', 'S013_128.mat', 'S014_128.mat', 'S015_128.mat', 'S016_128.mat', 'S017_128.mat', 'S018_128.mat', 'S019_128.mat', 'S020_128.mat', 'S021_128.mat', 'S022_128.mat', 'S023_128.mat', 'S024_128.mat', 'S025_128.mat', 'S026_128.mat', 'S027_128.mat', 'S028_128.mat', 'S029_128.mat', 'S030_128.mat', 'S031_128.mat', 'S032_128.mat', 'S033_128.mat', 'S034_128.mat', 'S035_128.mat', 'S036_128.mat', 'S037_128.mat', 'S038_128.mat', 'S039_128.mat', 'S040_128.mat', 'S041_128.mat', 'S042_128.mat', 'S043_128.mat', 'S044_128.mat', 'S045_128.mat', 'S046_128.mat', 'S047_128.mat', 'S048_128.mat', 'S049_128.mat', 'S050_128.mat', 'S051_128.mat', 'S052_128.mat', 'S053_128.mat', 'S054_128.mat', 'S055_128.mat', 'S056_128.mat', 'S057_128.mat', 'S058_128.mat', 'S059_128.mat', 'S060_128.mat', 'S061_128.mat', 'S062_128.mat', 'S079_250.mat', 'S080_250.mat', 'S081_250.mat', 'S082_250.mat', 'S083_250.mat', 'S084_250.mat', 'S086_250.mat', 'S087_250.mat', 'S088_250.mat', 'S089_250.mat', 'S090_250.mat', 'S091_250.mat', 'S093_250.mat', 'S094_250.mat', 'S097_250.mat', 'S098_250.mat', 'S099_250.mat', 'S100_250.mat', 'S101_250.mat', 'S102_250.mat', 'S103_250.mat', 'S106_250.mat', 'S109_250.mat', 'S112_250.mat', 'S113_250.mat', 'S114_250.mat', 'S116_250.mat', 'S117_250.mat', 'S118_250.mat']\n"
          ]
        }
      ]
    },
    {
      "cell_type": "code",
      "source": [
        "len(filtered_files_updated)"
      ],
      "metadata": {
        "id": "24C2b6nPi9G5",
        "colab": {
          "base_uri": "https://localhost:8080/"
        },
        "outputId": "8b6fd4ae-9b8f-4074-978c-2bf45abdde73"
      },
      "execution_count": null,
      "outputs": [
        {
          "output_type": "execute_result",
          "data": {
            "text/plain": [
              "91"
            ]
          },
          "metadata": {},
          "execution_count": 19
        }
      ]
    },
    {
      "cell_type": "code",
      "source": [
        "# Initialize counters\n",
        "count_128 = 0\n",
        "count_250 = 0\n",
        "\n",
        "# Iterate over the list of filenames and count frequencies\n",
        "for filename in filtered_files_updated:\n",
        "    freq = ppg_freq(filename)\n",
        "    if freq == 128:\n",
        "        count_128 += 1\n",
        "    elif freq == 250:\n",
        "        count_250 += 1\n",
        "\n",
        "# Print the results\n",
        "print(f\"Number of files with 128 Hz sampling frequency: {count_128}\")\n",
        "print(f\"Number of files with 250 Hz sampling frequency: {count_250}\")"
      ],
      "metadata": {
        "id": "ytV80QMPi-Ix",
        "colab": {
          "base_uri": "https://localhost:8080/"
        },
        "outputId": "21e5b8df-1fcd-4326-bcf3-e2fa8fbe7f46"
      },
      "execution_count": null,
      "outputs": [
        {
          "output_type": "stream",
          "name": "stdout",
          "text": [
            "Number of files with 128 Hz sampling frequency: 62\n",
            "Number of files with 250 Hz sampling frequency: 29\n"
          ]
        }
      ]
    },
    {
      "cell_type": "code",
      "source": [
        "# Plot the counts\n",
        "frequencies = ['128 Hz', '250 Hz']\n",
        "counts = [count_128, count_250]\n",
        "\n",
        "plt.figure(figsize=(8, 6))\n",
        "plt.bar(frequencies, counts, color=['blue', 'green'])\n",
        "plt.xlabel('Sampling Frequency')\n",
        "plt.ylabel('Number of Files')\n",
        "plt.title('Counts of Files by Sampling Frequency')\n",
        "plt.show()"
      ],
      "metadata": {
        "id": "puKasO03i_Rj",
        "colab": {
          "base_uri": "https://localhost:8080/",
          "height": 564
        },
        "outputId": "2588c242-96cb-4bb3-ea92-27180161aec9"
      },
      "execution_count": null,
      "outputs": [
        {
          "output_type": "display_data",
          "data": {
            "text/plain": [
              "<Figure size 800x600 with 1 Axes>"
            ],
            "image/png": "[encoded data removed]"
          },
          "metadata": {}
        }
      ]
    },
    {
      "cell_type": "code",
      "source": [
        "# List to store the percentage of 'N' annotations for each file\n",
        "n_annotations_percentage = []\n",
        "\n",
        "# Process each file in filtered_files_updated\n",
        "for file in filtered_files_updated:\n",
        "    _, _, ann = load_data(path_to_data + '/' + file)\n",
        "    labels = ann.get('labels', [])\n",
        "    if len(labels) > 0:\n",
        "        n_count = np.sum(labels == 'N')\n",
        "        total_count = len(labels)\n",
        "        percentage_n = (n_count / total_count) * 100\n",
        "        n_annotations_percentage.append(percentage_n)\n",
        "\n",
        "# Compute statistics\n",
        "max_n_percentage = np.max(n_annotations_percentage)\n",
        "min_n_percentage = np.min(n_annotations_percentage)\n",
        "median_n_percentage = np.median(n_annotations_percentage)\n",
        "average_n_percentage = np.mean(n_annotations_percentage)\n",
        "total_n_percentage = np.sum(n_annotations_percentage)\n",
        "\n",
        "# Print statistics\n",
        "print(f\"Maximum percentage of 'N' annotations: {max_n_percentage:.2f}%\")\n",
        "print(f\"Minimum percentage of 'N' annotations: {min_n_percentage:.2f}%\")\n",
        "print(f\"Median percentage of 'N' annotations: {median_n_percentage:.2f}%\")\n",
        "print(f\"Average percentage of 'N' annotations: {average_n_percentage:.2f}%\")\n",
        "print(f\"Total percentage of 'N' annotations: {total_n_percentage:.2f}%\")"
      ],
      "metadata": {
        "id": "mx35HEu1jApK",
        "colab": {
          "base_uri": "https://localhost:8080/"
        },
        "outputId": "dbdb71b5-a212-45b9-9f09-e1a0ad4349f7"
      },
      "execution_count": null,
      "outputs": [
        {
          "output_type": "stream",
          "name": "stdout",
          "text": [
            "Maximum percentage of 'N' annotations: 99.97%\n",
            "Minimum percentage of 'N' annotations: 35.04%\n",
            "Median percentage of 'N' annotations: 96.54%\n",
            "Average percentage of 'N' annotations: 92.40%\n",
            "Total percentage of 'N' annotations: 8408.34%\n"
          ]
        }
      ]
    },
    {
      "cell_type": "code",
      "source": [
        "# Determine the threshold, for example using the median\n",
        "threshold = np.median(n_annotations_percentage)\n",
        "\n",
        "# Group patients based on the threshold\n",
        "dominantly_n_files = [file for i, file in enumerate(filtered_files_updated) if n_annotations_percentage[i] >= threshold]\n",
        "few_n_files = [file for i, file in enumerate(filtered_files_updated) if n_annotations_percentage[i] < threshold]\n",
        "\n",
        "# Print the threshold and grouped files\n",
        "print(f\"Threshold for percentage of 'N' annotations: {threshold:.2f}%\")\n",
        "print(f\"Files with dominantly 'N' annotations: {dominantly_n_files}\")\n",
        "print(f\"Files with fewer 'N' annotations: {few_n_files}\")"
      ],
      "metadata": {
        "id": "ZoHf-Y53jBrK",
        "colab": {
          "base_uri": "https://localhost:8080/"
        },
        "outputId": "efe8a804-bfff-4090-92f6-a0252f6a18af"
      },
      "execution_count": null,
      "outputs": [
        {
          "output_type": "stream",
          "name": "stdout",
          "text": [
            "Threshold for percentage of 'N' annotations: 96.54%\n",
            "Files with dominantly 'N' annotations: ['S003_128.mat', 'S006_128.mat', 'S013_128.mat', 'S015_128.mat', 'S017_128.mat', 'S022_128.mat', 'S023_128.mat', 'S024_128.mat', 'S028_128.mat', 'S033_128.mat', 'S035_128.mat', 'S037_128.mat', 'S038_128.mat', 'S042_128.mat', 'S046_128.mat', 'S050_128.mat', 'S055_128.mat', 'S056_128.mat', 'S059_128.mat', 'S060_128.mat', 'S061_128.mat', 'S079_250.mat', 'S080_250.mat', 'S081_250.mat', 'S082_250.mat', 'S083_250.mat', 'S084_250.mat', 'S087_250.mat', 'S088_250.mat', 'S089_250.mat', 'S090_250.mat', 'S091_250.mat', 'S093_250.mat', 'S094_250.mat', 'S097_250.mat', 'S098_250.mat', 'S099_250.mat', 'S100_250.mat', 'S101_250.mat', 'S103_250.mat', 'S109_250.mat', 'S112_250.mat', 'S113_250.mat', 'S114_250.mat', 'S116_250.mat', 'S118_250.mat']\n",
            "Files with fewer 'N' annotations: ['S001_128.mat', 'S002_128.mat', 'S004_128.mat', 'S005_128.mat', 'S007_128.mat', 'S008_128.mat', 'S009_128.mat', 'S010_128.mat', 'S011_128.mat', 'S012_128.mat', 'S014_128.mat', 'S016_128.mat', 'S018_128.mat', 'S019_128.mat', 'S020_128.mat', 'S021_128.mat', 'S025_128.mat', 'S026_128.mat', 'S027_128.mat', 'S029_128.mat', 'S030_128.mat', 'S031_128.mat', 'S032_128.mat', 'S034_128.mat', 'S036_128.mat', 'S039_128.mat', 'S040_128.mat', 'S041_128.mat', 'S043_128.mat', 'S044_128.mat', 'S045_128.mat', 'S047_128.mat', 'S048_128.mat', 'S049_128.mat', 'S051_128.mat', 'S052_128.mat', 'S053_128.mat', 'S054_128.mat', 'S057_128.mat', 'S058_128.mat', 'S062_128.mat', 'S086_250.mat', 'S102_250.mat', 'S106_250.mat', 'S117_250.mat']\n"
          ]
        }
      ]
    },
    {
      "cell_type": "code",
      "source": [
        "len(dominantly_n_files), len(few_n_files)"
      ],
      "metadata": {
        "id": "X072R2dAjC6S",
        "colab": {
          "base_uri": "https://localhost:8080/"
        },
        "outputId": "44f5f4dd-cffe-43b7-a9eb-ce93641b146a"
      },
      "execution_count": null,
      "outputs": [
        {
          "output_type": "execute_result",
          "data": {
            "text/plain": [
              "(46, 45)"
            ]
          },
          "metadata": {},
          "execution_count": 24
        }
      ]
    },
    {
      "cell_type": "code",
      "source": [
        "# Function to split data into train, test, and validation sets\n",
        "def split_data(files, train_size=0.7, test_size=0.2, val_size=0.1):\n",
        "    train_files, test_val_files = train_test_split(files, train_size=train_size, random_state=42)\n",
        "    test_files, val_files = train_test_split(test_val_files, test_size=val_size/(test_size + val_size), random_state=42)\n",
        "    return train_files, test_files, val_files\n",
        "\n",
        "# Split each group\n",
        "dominantly_n_train, dominantly_n_test, dominantly_n_val = split_data(dominantly_n_files)\n",
        "few_n_train, few_n_test, few_n_val = split_data(few_n_files)\n",
        "\n",
        "# Combine the groups\n",
        "train_files = dominantly_n_train + few_n_train\n",
        "test_files = dominantly_n_test + few_n_test\n",
        "val_files = dominantly_n_val + few_n_val\n",
        "\n",
        "# Print the number of files in each set\n",
        "print(f\"Number of training files: {len(train_files)}\")\n",
        "print(f\"Number of testing files: {len(test_files)}\")\n",
        "print(f\"Number of validation files: {len(val_files)}\")\n"
      ],
      "metadata": {
        "id": "OO5QcOk1jD97",
        "colab": {
          "base_uri": "https://localhost:8080/"
        },
        "outputId": "ede6af65-f213-4444-9a3a-29aa06dde12a"
      },
      "execution_count": null,
      "outputs": [
        {
          "output_type": "stream",
          "name": "stdout",
          "text": [
            "Number of training files: 63\n",
            "Number of testing files: 18\n",
            "Number of validation files: 10\n"
          ]
        }
      ]
    },
    {
      "cell_type": "code",
      "source": [
        "train = []\n",
        "ppg_train = []\n",
        "spk_train = []\n",
        "ann_train = []\n",
        "\n",
        "\n",
        "for file in train_files:\n",
        "  ppg, spk, ann = load_data(path_to_data + '/' + file)\n",
        "  ppg_train.append(ppg)\n",
        "  spk_train.append(spk)\n",
        "  ann_train.append(ann)\n",
        "\n",
        "  train.append(path_to_data + '/' + file)"
      ],
      "metadata": {
        "id": "7izmnRhPjKzK"
      },
      "execution_count": null,
      "outputs": []
    },
    {
      "cell_type": "code",
      "source": [
        "testing = []\n",
        "ppg_testing = []\n",
        "spk_testing = []\n",
        "ann_testing = []\n",
        "\n",
        "for file in test_files:\n",
        "\n",
        "  ppg, spk, ann = load_data(path_to_data + '/' + file)\n",
        "  ppg_testing.append(ppg)\n",
        "  spk_testing.append(spk)\n",
        "  ann_testing.append(ann)\n",
        "\n",
        "  testing.append(path_to_data + '/' + file)"
      ],
      "metadata": {
        "id": "jGb75_iDjM8L"
      },
      "execution_count": null,
      "outputs": []
    },
    {
      "cell_type": "code",
      "source": [
        "validation = []\n",
        "ppg_validation = []\n",
        "spk_validation = []\n",
        "ann_validation = []\n",
        "\n",
        "for file in val_files:\n",
        "\n",
        "  ppg, spk, ann = load_data(path_to_data + '/' + file)\n",
        "  ppg_validation.append(ppg)\n",
        "  spk_validation.append(spk)\n",
        "  ann_validation.append(ann)\n",
        "\n",
        "  validation.append(path_to_data + '/' + file)"
      ],
      "metadata": {
        "id": "buuhhaV6jN75"
      },
      "execution_count": null,
      "outputs": []
    },
    {
      "cell_type": "code",
      "source": [
        "from collections import Counter\n",
        "import numpy as np\n",
        "\n",
        "# Initialize an empty Counter to hold label counts\n",
        "label_counter = Counter()\n",
        "\n",
        "# Iterate through each dictionary in ann_train\n",
        "for ann in ann_train:\n",
        "    labels = ann['labels']\n",
        "    # Update the counter with labels from the current dictionary\n",
        "    label_counter.update(labels)\n",
        "\n",
        "# Print the total counts for each label\n",
        "print(\"Counts of each label:\", dict(label_counter))\n",
        "\n",
        "# Optionally, convert the Counter to a dictionary and plot the counts\n",
        "labels, counts = zip(*label_counter.items())\n",
        "\n",
        "# Plotting the counts\n",
        "import matplotlib.pyplot as plt\n",
        "\n",
        "plt.figure(figsize=(8, 6))\n",
        "plt.bar(labels, counts, color='blue')\n",
        "plt.xlabel('Class Labels')\n",
        "plt.ylabel('Number of Samples')\n",
        "plt.title('Class Distribution in ann_train')\n",
        "plt.show()"
      ],
      "metadata": {
        "id": "H1_1JDNGjO9a",
        "colab": {
          "base_uri": "https://localhost:8080/",
          "height": 581
        },
        "outputId": "d6769325-c93a-4762-9241-f9c3c8c4eae7"
      },
      "execution_count": null,
      "outputs": [
        {
          "output_type": "stream",
          "name": "stdout",
          "text": [
            "Counts of each label: {'N': 136867, 'S': 5345, 'V': 5658}\n"
          ]
        },
        {
          "output_type": "display_data",
          "data": {
            "text/plain": [
              "<Figure size 800x600 with 1 Axes>"
            ],
            "image/png": "[encoded data removed]"
          },
          "metadata": {}
        }
      ]
    },
    {
      "cell_type": "code",
      "source": [
        "! pip install neurokit2 tdqm"
      ],
      "metadata": {
        "id": "G1egFY4vjQTB",
        "colab": {
          "base_uri": "https://localhost:8080/"
        },
        "outputId": "d96c41e1-6469-4bdd-9e43-859ea7bd946d"
      },
      "execution_count": null,
      "outputs": [
        {
          "output_type": "stream",
          "name": "stdout",
          "text": [
            "Collecting neurokit2\n",
            "  Downloading neurokit2-0.2.9-py2.py3-none-any.whl (689 kB)\n",
            "\u001b[2K     \u001b[90m━━━━━━━━━━━━━━━━━━━━━━━━━━━━━━━━━━━━━━━━\u001b[0m \u001b[32m689.2/689.2 kB\u001b[0m \u001b[31m8.0 MB/s\u001b[0m eta \u001b[36m0:00:00\u001b[0m\n",
            "\u001b[?25hCollecting tdqm\n",
            "  Downloading tdqm-0.0.1.tar.gz (1.4 kB)\n",
            "  Preparing metadata (setup.py) ... \u001b[?25l\u001b[?25hdone\n",
            "Requirement already satisfied: requests in /usr/local/lib/python3.10/dist-packages (from neurokit2) (2.31.0)\n",
            "Requirement already satisfied: numpy in /usr/local/lib/python3.10/dist-packages (from neurokit2) (1.25.2)\n",
            "Requirement already satisfied: pandas in /usr/local/lib/python3.10/dist-packages (from neurokit2) (2.0.3)\n",
            "Requirement already satisfied: scipy in /usr/local/lib/python3.10/dist-packages (from neurokit2) (1.11.4)\n",
            "Requirement already satisfied: scikit-learn>=1.0.0 in /usr/local/lib/python3.10/dist-packages (from neurokit2) (1.2.2)\n",
            "Requirement already satisfied: matplotlib in /usr/local/lib/python3.10/dist-packages (from neurokit2) (3.7.1)\n",
            "Requirement already satisfied: tqdm in /usr/local/lib/python3.10/dist-packages (from tdqm) (4.66.4)\n",
            "Requirement already satisfied: joblib>=1.1.1 in /usr/local/lib/python3.10/dist-packages (from scikit-learn>=1.0.0->neurokit2) (1.4.2)\n",
            "Requirement already satisfied: threadpoolctl>=2.0.0 in /usr/local/lib/python3.10/dist-packages (from scikit-learn>=1.0.0->neurokit2) (3.5.0)\n",
            "Requirement already satisfied: contourpy>=1.0.1 in /usr/local/lib/python3.10/dist-packages (from matplotlib->neurokit2) (1.2.1)\n",
            "Requirement already satisfied: cycler>=0.10 in /usr/local/lib/python3.10/dist-packages (from matplotlib->neurokit2) (0.12.1)\n",
            "Requirement already satisfied: fonttools>=4.22.0 in /usr/local/lib/python3.10/dist-packages (from matplotlib->neurokit2) (4.53.1)\n",
            "Requirement already satisfied: kiwisolver>=1.0.1 in /usr/local/lib/python3.10/dist-packages (from matplotlib->neurokit2) (1.4.5)\n",
            "Requirement already satisfied: packaging>=20.0 in /usr/local/lib/python3.10/dist-packages (from matplotlib->neurokit2) (24.1)\n",
            "Requirement already satisfied: pillow>=6.2.0 in /usr/local/lib/python3.10/dist-packages (from matplotlib->neurokit2) (9.4.0)\n",
            "Requirement already satisfied: pyparsing>=2.3.1 in /usr/local/lib/python3.10/dist-packages (from matplotlib->neurokit2) (3.1.2)\n",
            "Requirement already satisfied: python-dateutil>=2.7 in /usr/local/lib/python3.10/dist-packages (from matplotlib->neurokit2) (2.8.2)\n",
            "Requirement already satisfied: pytz>=2020.1 in /usr/local/lib/python3.10/dist-packages (from pandas->neurokit2) (2023.4)\n",
            "Requirement already satisfied: tzdata>=2022.1 in /usr/local/lib/python3.10/dist-packages (from pandas->neurokit2) (2024.1)\n",
            "Requirement already satisfied: charset-normalizer<4,>=2 in /usr/local/lib/python3.10/dist-packages (from requests->neurokit2) (3.3.2)\n",
            "Requirement already satisfied: idna<4,>=2.5 in /usr/local/lib/python3.10/dist-packages (from requests->neurokit2) (3.7)\n",
            "Requirement already satisfied: urllib3<3,>=1.21.1 in /usr/local/lib/python3.10/dist-packages (from requests->neurokit2) (2.0.7)\n",
            "Requirement already satisfied: certifi>=2017.4.17 in /usr/local/lib/python3.10/dist-packages (from requests->neurokit2) (2024.7.4)\n",
            "Requirement already satisfied: six>=1.5 in /usr/local/lib/python3.10/dist-packages (from python-dateutil>=2.7->matplotlib->neurokit2) (1.16.0)\n",
            "Building wheels for collected packages: tdqm\n",
            "  Building wheel for tdqm (setup.py) ... \u001b[?25l\u001b[?25hdone\n",
            "  Created wheel for tdqm: filename=tdqm-0.0.1-py3-none-any.whl size=1323 sha256=878e0f00f244a16249a9ea9b6403be9436a662a1011a399419530e2b3f41921f\n",
            "  Stored in directory: /root/.cache/pip/wheels/37/31/b8/7b711038035720ba0df14376af06e5e76b9bd61759c861ad92\n",
            "Successfully built tdqm\n",
            "Installing collected packages: tdqm, neurokit2\n",
            "Successfully installed neurokit2-0.2.9 tdqm-0.0.1\n"
          ]
        }
      ]
    },
    {
      "cell_type": "code",
      "source": [
        "import scipy"
      ],
      "metadata": {
        "id": "sDxs9cPfjRiJ"
      },
      "execution_count": null,
      "outputs": []
    },
    {
      "cell_type": "code",
      "source": [
        "def normalize(data):\n",
        "    return (data - np.mean(data)) / np.std(data)\n"
      ],
      "metadata": {
        "id": "Sg3Fte_UjSb4"
      },
      "execution_count": null,
      "outputs": []
    },
    {
      "cell_type": "code",
      "source": [
        "# Resample and normalize to 250 Hz training PPG signals\n",
        "normalized_ppg_1_train = []\n",
        "for i in range(len(ppg_train)):\n",
        "    original_fs = ppg_freq(train[i])\n",
        "    if original_fs != 250:\n",
        "        resampled = signal.resample_poly(ppg_train[i]['ppg'][:, 0], 250, original_fs)\n",
        "    else:\n",
        "        resampled = ppg_train[i]['ppg'][:, 0]\n",
        "    normalized = normalize(resampled)\n",
        "    normalized_ppg_1_train.append(normalized)\n",
        "\n",
        "# Resample and normalize to 250 Hz validation PPG signals\n",
        "normalized_ppg_1_validation = []\n",
        "for i in range(len(ppg_validation)):\n",
        "    original_fs = ppg_freq(validation[i])\n",
        "    if original_fs != 250:\n",
        "        resampled = signal.resample_poly(ppg_validation[i]['ppg'][:, 0], 250, original_fs)\n",
        "    else:\n",
        "        resampled = ppg_validation[i]['ppg'][:, 0]\n",
        "    normalized = normalize(resampled)\n",
        "    normalized_ppg_1_validation.append(normalized)\n",
        "\n",
        "\n",
        "# Resample and normalize to 250 Hz training PPG signals\n",
        "normalized_ppg_1_testing = []\n",
        "for i in range(len(ppg_testing)):\n",
        "    original_fs = ppg_freq(testing[i])\n",
        "    if original_fs != 250:\n",
        "        resampled = signal.resample_poly(ppg_testing[i]['ppg'][:, 0], 250, original_fs)\n",
        "    else:\n",
        "        resampled = ppg_testing[i]['ppg'][:, 0]\n",
        "    normalized = normalize(resampled)\n",
        "    normalized_ppg_1_testing.append(normalized)\n",
        "\n",
        "# Define the Butterworth bandpass filter\n",
        "def butter_bandpass(lowcut, highcut, fs, order=4):\n",
        "    nyquist = 0.5 * fs\n",
        "    low = lowcut / nyquist\n",
        "    high = highcut / nyquist\n",
        "    b, a = signal.butter(order, [low, high], btype='band')\n",
        "    return b, a\n",
        "\n",
        "# Apply the Butterworth filter to the signal\n",
        "def butter_bandpass_filter(data, lowcut, highcut, fs, order=4):\n",
        "    b, a = butter_bandpass(lowcut, highcut, fs, order)\n",
        "    y = signal.lfilter(b, a, data)\n",
        "    return y\n",
        "\n"
      ],
      "metadata": {
        "id": "NYDthOUZjTtp"
      },
      "execution_count": null,
      "outputs": []
    },
    {
      "cell_type": "code",
      "source": [
        "# Filter parameters\n",
        "lowcut = 0.5\n",
        "highcut = 8.0\n",
        "fs = 250"
      ],
      "metadata": {
        "id": "w1xfSQp40hd0"
      },
      "execution_count": null,
      "outputs": []
    },
    {
      "cell_type": "code",
      "source": [
        "# Apply the Butterworth filter to normalized training data\n",
        "filtered_ppg_1_train = []\n",
        "for i in range(len(normalized_ppg_1_train)):\n",
        "    filtered_ppg_1_train.append(butter_bandpass_filter(normalized_ppg_1_train[i], lowcut, highcut, fs))\n",
        "\n",
        "# Apply the Butterworth filter to normalized validation data\n",
        "filtered_ppg_1_validation = []\n",
        "for i in range(len(normalized_ppg_1_validation)):\n",
        "    filtered_ppg_1_validation.append(butter_bandpass_filter(normalized_ppg_1_validation[i], lowcut, highcut, fs))\n",
        "\n",
        "# Apply the Butterworth filter to normalized testing data\n",
        "filtered_ppg_1_testing = []\n",
        "for i in range(len(normalized_ppg_1_testing)):\n",
        "    filtered_ppg_1_testing.append(butter_bandpass_filter(normalized_ppg_1_testing[i], lowcut, highcut, fs))\n",
        "\n",
        "# Function to plot PPG signals\n",
        "def plot_ppgg_signals(subject_index, xlim=(0, 1000), ylim=(-5, 5)):\n",
        "    plt.figure(figsize=(12, 8))\n",
        "\n",
        "    plt.subplot(2, 1, 1)\n",
        "    plt.plot(normalized_ppg_1_train[subject_index], label='Normalized 250Hz')\n",
        "    plt.title(f'Subject {subject_index + 1}: {train_files[subject_index]} - Resampled PPG')\n",
        "    plt.title(f'Subject {subject_index + 1}: Normalized PP')\n",
        "    plt.legend()\n",
        "    plt.xlim(xlim)\n",
        "    plt.ylim(ylim)\n",
        "\n",
        "    plt.subplot(2, 1, 2)\n",
        "    plt.plot(filtered_ppg_1_train[subject_index], label='Filtered 0.5-10Hz')\n",
        "    plt.title(f'Subject {subject_index + 1}: Filtered PPG')\n",
        "    plt.legend()\n",
        "    plt.xlim(xlim)\n",
        "    plt.ylim(ylim)\n",
        "\n",
        "    plt.tight_layout()\n",
        "    plt.show()\n"
      ],
      "metadata": {
        "id": "MoENb5Es0jWb"
      },
      "execution_count": null,
      "outputs": []
    },
    {
      "cell_type": "code",
      "source": [
        "def from_freq_to_freq(sample, ini_freq, freq = 250):\n",
        "   secs = sample/ini_freq # Number of seconds in signal X\n",
        "   samp = secs*freq       # Number of samples to downsample\n",
        "   return int(samp)"
      ],
      "metadata": {
        "id": "gVgNPqNIkAdC"
      },
      "execution_count": null,
      "outputs": []
    },
    {
      "cell_type": "code",
      "source": [
        "win = 250"
      ],
      "metadata": {
        "id": "JJ7mffo4kFFJ"
      },
      "execution_count": null,
      "outputs": []
    },
    {
      "cell_type": "code",
      "source": [
        "import numpy as np\n",
        "import tensorflow as tf\n",
        "from sklearn.preprocessing import OneHotEncoder, LabelEncoder\n",
        "import matplotlib.pyplot as plt\n",
        "\n",
        "# Resampling and Filtering ppg Data\n",
        "resampled_ppg_1_train = filtered_ppg_1_train\n",
        "resampled_ppg_1_validation = filtered_ppg_1_validation\n",
        "resampled_ppg_1_testing = filtered_ppg_1_testing"
      ],
      "metadata": {
        "id": "lmcSlcq0jcDx"
      },
      "execution_count": null,
      "outputs": []
    },
    {
      "cell_type": "code",
      "source": [
        "\n",
        "resampled_ppg_1_train = filtered_ppg_1_train\n",
        "resampled_ppg_1_validation = filtered_ppg_1_validation\n",
        "resampled_ppg_1_testing = filtered_ppg_1_testing"
      ],
      "metadata": {
        "id": "POrOCYzX4v1c"
      },
      "execution_count": null,
      "outputs": []
    },
    {
      "cell_type": "code",
      "source": [
        "# Plotting the Effect of Denoising\n",
        "x = 11\n",
        "plt.figure(figsize=(20, 5))\n",
        "plt.plot(ppg_train[x]['ppg'][:,0])\n",
        "plt.xlim(2000, 4000)\n",
        "plt.ylim(-10,10)\n",
        "plt.figure(figsize=(20, 5))\n",
        "plt.plot(resampled_ppg_1_train[x])\n",
        "plt.xlim(2000, 4000)\n",
        "plt.ylim(-10,10)"
      ],
      "metadata": {
        "id": "SxRh8wgR4uDc",
        "colab": {
          "base_uri": "https://localhost:8080/",
          "height": 692
        },
        "outputId": "a1dbf43e-bf01-436d-e32e-53b21d86a55e"
      },
      "execution_count": null,
      "outputs": [
        {
          "output_type": "execute_result",
          "data": {
            "text/plain": [
              "(-10.0, 10.0)"
            ]
          },
          "metadata": {},
          "execution_count": 40
        },
        {
          "output_type": "display_data",
          "data": {
            "text/plain": [
              "<Figure size 2000x500 with 1 Axes>"
            ],
            "image/png": "[encoded data removed]"
          },
          "metadata": {}
        },
        {
          "output_type": "display_data",
          "data": {
            "text/plain": [
              "<Figure size 2000x500 with 1 Axes>"
            ],
            "image/png": "[encoded data removed]"
          },
          "metadata": {}
        }
      ]
    },
    {
      "cell_type": "code",
      "source": [
        "# Extracting Heartbeats\n",
        "heartbeats_train_1 = []\n",
        "heartbeats_validation_1 = []\n",
        "heartbeats_testing_1 = []\n"
      ],
      "metadata": {
        "id": "g6RI2SSF4rxh"
      },
      "execution_count": null,
      "outputs": []
    },
    {
      "cell_type": "code",
      "source": [
        "for i in range(len(ppg_train)):\n",
        "    for j in range(len(spk_train[i]['speaks'])):\n",
        "        if (from_freq_to_freq(spk_train[i]['speaks'][j], ppg_freq(ppg_train[i])) < win or\n",
        "            from_freq_to_freq(spk_train[i]['speaks'][j], ppg_freq(ppg_train[i]))  + win >\n",
        "            from_freq_to_freq(spk_train[i]['speaks'][-1], ppg_freq(ppg_train[i])) or\n",
        "            j < 40 or\n",
        "            (len(spk_train[i]['speaks']) - (j+1) < 40)):\n",
        "            ann_train[i]['labels'][j] = 'A'\n",
        "            spk_train[i]['speaks'][j] = 0\n",
        "        else:\n",
        "            heartbeats_train_1.append(\n",
        "                resampled_ppg_1_train[i][from_freq_to_freq(spk_train[i]['speaks'][j], ppg_freq(ppg_train[i]))  - win :\n",
        "                                         from_freq_to_freq(spk_train[i]['speaks'][j], ppg_freq(ppg_train[i]))  + win])\n",
        "\n",
        "for i in range(len(ppg_validation)):\n",
        "    for j in range(len(spk_validation[i]['speaks'])):\n",
        "        if (from_freq_to_freq(spk_validation[i]['speaks'][j], ppg_freq(ppg_validation[i])) < win or\n",
        "            from_freq_to_freq(spk_validation[i]['speaks'][j], ppg_freq(ppg_validation[i]))  + win >\n",
        "            from_freq_to_freq(spk_validation[i]['speaks'][-1], ppg_freq(ppg_validation[i])) or\n",
        "            j < 40 or\n",
        "            (len(spk_validation[i]['speaks']) - (j+1) < 40)):\n",
        "            ann_validation[i]['labels'][j] = 'A'\n",
        "            spk_validation[i]['speaks'][j] = 0\n",
        "        else:\n",
        "            heartbeats_validation_1.append(\n",
        "                resampled_ppg_1_validation[i][from_freq_to_freq(spk_validation[i]['speaks'][j], ppg_freq(ppg_validation[i]))  - win :\n",
        "                                             from_freq_to_freq(spk_validation[i]['speaks'][j], ppg_freq(ppg_validation[i]))  + win])\n",
        "\n",
        "for i in range(len(ppg_testing)):\n",
        "    for j in range(len(spk_testing[i]['speaks'])):\n",
        "        if (from_freq_to_freq(spk_testing[i]['speaks'][j], ppg_freq(ppg_testing[i])) < win or\n",
        "            from_freq_to_freq(spk_testing[i]['speaks'][j], ppg_freq(ppg_testing[i]))  + win >\n",
        "            from_freq_to_freq(spk_testing[i]['speaks'][-1], ppg_freq(ppg_testing[i])) or\n",
        "            j < 40 or\n",
        "            (len(spk_testing[i]['speaks']) - (j+1) < 40)):\n",
        "            ann_testing[i]['labels'][j] = 'A'\n",
        "            spk_testing[i]['speaks'][j] = 0\n",
        "        else:\n",
        "            heartbeats_testing_1.append(\n",
        "                resampled_ppg_1_testing[i][from_freq_to_freq(spk_testing[i]['speaks'][j], ppg_freq(ppg_testing[i]))  - win :\n",
        "                                          from_freq_to_freq(spk_testing[i]['speaks'][j], ppg_freq(ppg_testing[i]))  + win])"
      ],
      "metadata": {
        "id": "cDZRYHL24o36",
        "colab": {
          "base_uri": "https://localhost:8080/"
        },
        "outputId": "8ae0ceb2-0592-4373-f253-bda518464626"
      },
      "execution_count": null,
      "outputs": [
        {
          "output_type": "stream",
          "name": "stderr",
          "text": [
            "<ipython-input-36-ead6d838464d>:4: DeprecationWarning: Conversion of an array with ndim > 0 to a scalar is deprecated, and will error in future. Ensure you extract a single element from your array before performing this operation. (Deprecated NumPy 1.25.)\n",
            "  return int(samp)\n"
          ]
        }
      ]
    },
    {
      "cell_type": "code",
      "source": [
        "# Amplitude Filtering\n",
        "high_amplitude_peaks = []\n",
        "low_amplitude_peaks = []\n",
        "\n",
        "for i in range(len(heartbeats_train_1)):\n",
        "    max_val = np.max(heartbeats_train_1[i])\n",
        "    min_val = np.min(heartbeats_train_1[i])\n",
        "    peak_to_peak_amplitude = max_val - min_val\n",
        "\n",
        "    if peak_to_peak_amplitude > 5:\n",
        "        high_amplitude_peaks.append(peak_to_peak_amplitude)\n",
        "    else:\n",
        "        low_amplitude_peaks.append(peak_to_peak_amplitude)\n",
        "\n"
      ],
      "metadata": {
        "id": "slIOBkM-4lV0"
      },
      "execution_count": null,
      "outputs": []
    },
    {
      "cell_type": "code",
      "source": [
        "# Plotting Amplitude Distributions\n",
        "plt.figure(figsize=(14, 6))\n",
        "\n",
        "plt.subplot(1, 2, 1)\n",
        "plt.hist(high_amplitude_peaks, bins=30, color='r', alpha=0.7)\n",
        "plt.title('Distribution of Peak-to-Peak Amplitudes > 5')\n",
        "plt.xlabel('Peak-to-Peak Amplitude')\n",
        "plt.ylabel('Frequency')\n",
        "\n",
        "plt.subplot(1, 2, 2)\n",
        "plt.hist(low_amplitude_peaks, bins=30, color='b', alpha=0.7)\n",
        "plt.title('Distribution of Peak-to-Peak Amplitudes <= 5')\n",
        "plt.xlabel('Peak-to-Peak Amplitude')\n",
        "plt.ylabel('Frequency')\n",
        "\n",
        "plt.tight_layout()\n",
        "plt.show()\n",
        "\n"
      ],
      "metadata": {
        "id": "A_gexbqp4jsQ",
        "colab": {
          "base_uri": "https://localhost:8080/",
          "height": 544
        },
        "outputId": "22b34756-67f7-41b1-abb9-e3ab9f780040"
      },
      "execution_count": null,
      "outputs": [
        {
          "output_type": "display_data",
          "data": {
            "text/plain": [
              "<Figure size 1400x600 with 2 Axes>"
            ],
            "image/png": "[encoded data removed]"
          },
          "metadata": {}
        }
      ]
    },
    {
      "cell_type": "code",
      "source": [
        "# Filtering Labels and Preparing Valid Heartbeats\n",
        "labels_train = []\n",
        "labels_validation = []\n",
        "labels_testing = []\n",
        "\n",
        "for i in range(len(ppg_train)):\n",
        "    for j in range(len(ann_train[i]['labels'])):\n",
        "        if ann_train[i]['labels'][j] != 'A':\n",
        "            labels_train.append(ann_train[i]['labels'][j])\n",
        "\n",
        "\n",
        "for i in range(len(ppg_validation)):\n",
        "    for j in range(len(ann_validation[i]['labels'])):\n",
        "        if ann_validation[i]['labels'][j] != 'A':\n",
        "            labels_validation.append(ann_validation[i]['labels'][j])\n",
        "\n",
        "for i in range(len(ppg_testing)):\n",
        "    for j in range(len(ann_testing[i]['labels'])):\n",
        "        if ann_testing[i]['labels'][j] != 'A':\n",
        "            labels_testing.append(ann_testing[i]['labels'][j])\n"
      ],
      "metadata": {
        "id": "f8LI9lDJ4hOk"
      },
      "execution_count": null,
      "outputs": []
    },
    {
      "cell_type": "code",
      "source": [
        "# Adjusting Labels for Binary Classification\n",
        "labels_train = ['N' if label == 'N' else 'SV' for label in labels_train]\n",
        "labels_validation = ['N' if label == 'N' else 'SV' for label in labels_validation]\n",
        "labels_testing = ['N' if label == 'N' else 'SV' for label in labels_testing]"
      ],
      "metadata": {
        "id": "H-VjFou54by_"
      },
      "execution_count": null,
      "outputs": []
    },
    {
      "cell_type": "code",
      "source": [
        "# One-Hot Encoding\n",
        "label_encoder = LabelEncoder()\n",
        "integer_encoded = label_encoder.fit_transform(labels_train)\n",
        "\n",
        "ohe = OneHotEncoder(sparse=False)\n",
        "integer_encoded = integer_encoded.reshape(len(integer_encoded), 1)\n",
        "target_ohe_train = ohe.fit_transform(integer_encoded)"
      ],
      "metadata": {
        "id": "hLrgv0Jc4Y1T",
        "colab": {
          "base_uri": "https://localhost:8080/"
        },
        "outputId": "aefb0900-4318-42b8-939a-4b53b7c14e7b"
      },
      "execution_count": null,
      "outputs": [
        {
          "output_type": "stream",
          "name": "stderr",
          "text": [
            "/usr/local/lib/python3.10/dist-packages/sklearn/preprocessing/_encoders.py:868: FutureWarning: `sparse` was renamed to `sparse_output` in version 1.2 and will be removed in 1.4. `sparse_output` is ignored unless you leave `sparse` to its default value.\n",
            "  warnings.warn(\n"
          ]
        }
      ]
    },
    {
      "cell_type": "code",
      "source": [
        "# Similar encoding for validation and testing datasets\n",
        "integer_encoded_val = label_encoder.transform(labels_validation).reshape(-1, 1)\n",
        "target_ohe_val = ohe.transform(integer_encoded_val)\n",
        "\n",
        "integer_encoded_test = label_encoder.transform(labels_testing).reshape(-1, 1)\n",
        "target_ohe_test = ohe.transform(integer_encoded_test)"
      ],
      "metadata": {
        "id": "TGU5FYPC4WiR"
      },
      "execution_count": null,
      "outputs": []
    },
    {
      "cell_type": "code",
      "source": [
        "# Data Padding\n",
        "win = 250  # Assume window size is 250\n",
        "X_train_1 = tf.keras.preprocessing.sequence.pad_sequences(heartbeats_train_1, maxlen=win * 2, dtype='float32', truncating='post', padding=\"post\")\n",
        "X_test_1 = tf.keras.preprocessing.sequence.pad_sequences(heartbeats_testing_1, maxlen=win * 2, dtype='float32', truncating='post', padding=\"post\")\n",
        "X_val_1 = tf.keras.preprocessing.sequence.pad_sequences(heartbeats_validation_1, maxlen=win * 2, dtype='float32', truncating='post', padding=\"post\")\n",
        "\n",
        "X_train = np.asarray(X_train_1)\n",
        "X_test = np.asarray(X_test_1)\n",
        "X_val = np.asarray(X_val_1)\n"
      ],
      "metadata": {
        "id": "_M0sIOUF4R-z"
      },
      "execution_count": null,
      "outputs": []
    },
    {
      "cell_type": "code",
      "source": [
        "# Model Preparation and Training\n",
        "SEED = 42\n",
        "vgg = tf.keras.Sequential()\n",
        "\n",
        "vgg.add(tf.keras.layers.Conv1D(input_shape=(win * 2, 1), filters=32, kernel_size=3, padding=\"same\", activation=\"relu\", kernel_initializer=tf.keras.initializers.GlorotUniform(SEED)))\n",
        "vgg.add(tf.keras.layers.Conv1D(filters=32, kernel_size=3, padding=\"same\", activation=\"relu\", kernel_initializer=tf.keras.initializers.GlorotUniform(SEED)))\n",
        "vgg.add(tf.keras.layers.MaxPooling1D(pool_size=2, strides=2))\n",
        "vgg.add(tf.keras.layers.Conv1D(filters=64, kernel_size=3, padding=\"same\", activation=\"relu\", kernel_initializer=tf.keras.initializers.GlorotUniform(SEED)))\n",
        "vgg.add(tf.keras.layers.Conv1D(filters=64, kernel_size=3, padding=\"same\", activation=\"relu\", kernel_initializer=tf.keras.initializers.GlorotUniform(SEED)))\n",
        "vgg.add(tf.keras.layers.MaxPooling1D(pool_size=2, strides=2))\n",
        "vgg.add(tf.keras.layers.Conv1D(filters=128, kernel_size=3, padding=\"same\", activation=\"relu\", kernel_initializer=tf.keras.initializers.GlorotUniform(SEED)))\n",
        "vgg.add(tf.keras.layers.Conv1D(filters=128, kernel_size=3, padding=\"same\", activation=\"relu\", kernel_initializer=tf.keras.initializers.GlorotUniform(SEED)))\n",
        "vgg.add(tf.keras.layers.MaxPooling1D(pool_size=2, strides=2))\n",
        "vgg.add(tf.keras.layers.Flatten())\n",
        "vgg.add(tf.keras.layers.Dense(units=1024, activation=\"relu\", kernel_initializer=tf.keras.initializers.GlorotUniform(SEED)))\n",
        "vgg.add(tf.keras.layers.Dense(units=2, activation=\"softmax\", kernel_initializer=tf.keras.initializers.GlorotUniform(SEED)))\n",
        "\n",
        "vgg.compile(loss='categorical_crossentropy', optimizer='adam', metrics=['accuracy'])\n"
      ],
      "metadata": {
        "id": "5iLevnML4OZD"
      },
      "execution_count": null,
      "outputs": []
    },
    {
      "cell_type": "code",
      "source": [
        "from collections import Counter\n",
        "\n",
        "# Count occurrences of each class in labels_train\n",
        "class_distribution_train = Counter(labels_train)\n",
        "print(\"Training Data Class Distribution:\")\n",
        "print(class_distribution_train)"
      ],
      "metadata": {
        "id": "wcYpNTb9qpTG",
        "colab": {
          "base_uri": "https://localhost:8080/"
        },
        "outputId": "f1b8f27d-9211-4347-c73c-3a5322996292"
      },
      "execution_count": null,
      "outputs": [
        {
          "output_type": "stream",
          "name": "stdout",
          "text": [
            "Training Data Class Distribution:\n",
            "Counter({'N': 132187, 'SV': 10643})\n"
          ]
        }
      ]
    },
    {
      "cell_type": "code",
      "source": [
        "# Define Weighted Accuracy Metric\n",
        "def weighted_accuracy(y_true, y_pred):\n",
        "    class_weights = tf.constant([1.0, 1.0])  # Adjust weights based on your class distribution\n",
        "    y_true = tf.cast(tf.argmax(y_true, axis=-1), tf.float32)\n",
        "    y_pred = tf.cast(tf.argmax(y_pred, axis=-1), tf.float32)\n",
        "    weights = tf.gather(class_weights, tf.cast(y_true, tf.int32))\n",
        "    weighted_acc = tf.reduce_sum(tf.cast(tf.equal(y_true, y_pred), tf.float32) * weights) / tf.reduce_sum(weights)\n",
        "    return weighted_acc"
      ],
      "metadata": {
        "id": "h16Ki_XaqslU"
      },
      "execution_count": null,
      "outputs": []
    },
    {
      "cell_type": "code",
      "source": [
        "total_samples = len(labels_train)\n",
        "\n",
        "class_weight_N = total_samples / (2 * 132187)  # Total samples / (2 * number of 'N' samples)\n",
        "class_weight_SV = total_samples / (2 * 10643)  # Total samples / (2 * number of 'SV' samples)\n",
        "\n",
        "class_weights = {0: class_weight_N, 1: class_weight_SV}\n",
        "\n",
        "print(\"Manual Class Weights:\", class_weights)\n"
      ],
      "metadata": {
        "id": "zF8XFJ1ZrV04",
        "colab": {
          "base_uri": "https://localhost:8080/"
        },
        "outputId": "8857663a-f6a5-4c95-9ad6-74edf5901919"
      },
      "execution_count": null,
      "outputs": [
        {
          "output_type": "stream",
          "name": "stdout",
          "text": [
            "Manual Class Weights: {0: 0.5402573626756035, 1: 6.710044160481067}\n"
          ]
        }
      ]
    },
    {
      "cell_type": "code",
      "source": [
        "import tensorflow as tf\n",
        "from sklearn.metrics import confusion_matrix\n",
        "\n",
        "# Define Balanced Accuracy Metric\n",
        "def balanced_accuracy(y_true, y_pred):\n",
        "    y_true_cls = tf.argmax(y_true, axis=-1)\n",
        "    y_pred_cls = tf.argmax(y_pred, axis=-1)\n",
        "\n",
        "    # Calculate confusion matrix\n",
        "    cm = confusion_matrix(y_true_cls, y_pred_cls)\n",
        "\n",
        "    # Calculate balanced accuracy from confusion matrix\n",
        "    per_class_acc = np.diag(cm) / np.sum(cm, axis=1)\n",
        "    balanced_acc = np.mean(per_class_acc)\n",
        "\n",
        "    return balanced_acc\n"
      ],
      "metadata": {
        "id": "CwgKewkTs7sk"
      },
      "execution_count": null,
      "outputs": []
    },
    {
      "cell_type": "code",
      "source": [
        "import numpy as np\n",
        "import tensorflow as tf\n",
        "from sklearn.preprocessing import OneHotEncoder, LabelEncoder\n",
        "import matplotlib.pyplot as plt\n",
        "from sklearn.utils.class_weight import compute_class_weight\n",
        "from sklearn.metrics import confusion_matrix, ConfusionMatrixDisplay, precision_score, recall_score, f1_score\n",
        "from tensorflow.keras.callbacks import ModelCheckpoint\n",
        "\n",
        "# Define Weighted Accuracy Metric\n",
        "def weighted_accuracy(y_true, y_pred):\n",
        "    class_weights = tf.constant([1.0, 132187/10643])  # Adjust weights based on your class distribution\n",
        "    y_true = tf.cast(tf.argmax(y_true, axis=-1), tf.float32)\n",
        "    y_pred = tf.cast(tf.argmax(y_pred, axis=-1), tf.float32)\n",
        "    weights = tf.gather(class_weights, tf.cast(y_true, tf.int32))\n",
        "    weighted_acc = tf.reduce_sum(tf.cast(tf.equal(y_true, y_pred), tf.float32) * weights) / tf.reduce_sum(weights)\n",
        "    return weighted_acc\n",
        "\n",
        "# Define Balanced Accuracy Metric\n",
        "def balanced_accuracy(y_true, y_pred):\n",
        "    y_true_cls = tf.argmax(y_true, axis=-1)\n",
        "    y_pred_cls = tf.argmax(y_pred, axis=-1)\n",
        "\n",
        "    # Calculate confusion matrix\n",
        "    cm = tf.math.confusion_matrix(y_true_cls, y_pred_cls)\n",
        "\n",
        "    # Calculate balanced accuracy from confusion matrix\n",
        "    per_class_acc = tf.linalg.tensor_diag_part(cm) / tf.reduce_sum(cm, axis=1)\n",
        "    balanced_acc = tf.reduce_mean(per_class_acc)\n",
        "\n",
        "    return balanced_acc\n",
        "\n",
        "# Function to calculate specificity\n",
        "def specificity_score(y_true, y_pred):\n",
        "    tn, fp, fn, tp = confusion_matrix(y_true, y_pred).ravel()\n",
        "    specificity = tn / (tn + fp)\n",
        "    return specificity\n",
        "\n",
        "# Define checkpoint callback\n",
        "checkpoint_path = \"/content/drive/My Drive/train/model_vgg1.h5\"\n",
        "checkpoint = ModelCheckpoint(filepath=checkpoint_path, monitor='val_loss', verbose=1, save_best_only=True)\n",
        "\n",
        "# Compile the model with weighted accuracy and balanced accuracy as metrics\n",
        "vgg.compile(loss='categorical_crossentropy', optimizer='adam', metrics=['accuracy', weighted_accuracy])\n",
        "\n",
        "# Training the Model\n",
        "history = vgg.fit(X_train, target_ohe_train,\n",
        "                  epochs=5,\n",
        "                  batch_size=32,\n",
        "                  shuffle=True,\n",
        "                  validation_data=(X_val, target_ohe_val),\n",
        "                  callbacks=[checkpoint])\n"
      ],
      "metadata": {
        "id": "vYuN90EU2dIG",
        "colab": {
          "base_uri": "https://localhost:8080/"
        },
        "outputId": "45ec807d-a38e-48e5-fa83-183e7313196b"
      },
      "execution_count": null,
      "outputs": [
        {
          "output_type": "stream",
          "name": "stdout",
          "text": [
            "Epoch 1/5\n",
            "4464/4464 [==============================] - ETA: 0s - loss: 0.2596 - accuracy: 0.9255 - weighted_accuracy: 0.5523\n",
            "Epoch 1: val_loss improved from inf to 0.31904, saving model to /content/drive/My Drive/train/model_vgg1.h5\n"
          ]
        },
        {
          "output_type": "stream",
          "name": "stderr",
          "text": [
            "/usr/local/lib/python3.10/dist-packages/keras/src/engine/training.py:3103: UserWarning: You are saving your model as an HDF5 file via `model.save()`. This file format is considered legacy. We recommend using instead the native Keras format, e.g. `model.save('my_model.keras')`.\n",
            "  saving_api.save_model(\n"
          ]
        },
        {
          "output_type": "stream",
          "name": "stdout",
          "text": [
            "\b\b\b\b\b\b\b\b\b\b\b\b\b\b\b\b\b\b\b\b\b\b\b\b\b\b\b\b\b\b\b\b\b\b\b\b\b\b\b\b\b\b\b\b\b\b\b\b\b\b\b\b\b\b\b\b\b\b\b\b\b\b\b\b\b\b\b\b\b\b\b\b\b\b\b\b\b\b\b\b\b\b\b\b\b\b\b\b\b\b\b\b\b\b\b\b\b\b\b\b\b\b\b\b\b\b\b\b\b\b\b\b\b\b\r4464/4464 [==============================] - 52s 9ms/step - loss: 0.2596 - accuracy: 0.9255 - weighted_accuracy: 0.5523 - val_loss: 0.3190 - val_accuracy: 0.8919 - val_weighted_accuracy: 0.6189\n",
            "Epoch 2/5\n",
            "4463/4464 [============================>.] - ETA: 0s - loss: 0.2520 - accuracy: 0.9257 - weighted_accuracy: 0.5533\n",
            "Epoch 2: val_loss did not improve from 0.31904\n",
            "4464/4464 [==============================] - 34s 8ms/step - loss: 0.2520 - accuracy: 0.9257 - weighted_accuracy: 0.5533 - val_loss: 0.3235 - val_accuracy: 0.8919 - val_weighted_accuracy: 0.6206\n",
            "Epoch 3/5\n",
            "4462/4464 [============================>.] - ETA: 0s - loss: 0.2499 - accuracy: 0.9264 - weighted_accuracy: 0.5593\n",
            "Epoch 3: val_loss did not improve from 0.31904\n",
            "4464/4464 [==============================] - 35s 8ms/step - loss: 0.2499 - accuracy: 0.9264 - weighted_accuracy: 0.5594 - val_loss: 0.3233 - val_accuracy: 0.8917 - val_weighted_accuracy: 0.6244\n",
            "Epoch 4/5\n",
            "4459/4464 [============================>.] - ETA: 0s - loss: 0.2456 - accuracy: 0.9267 - weighted_accuracy: 0.5604\n",
            "Epoch 4: val_loss did not improve from 0.31904\n",
            "4464/4464 [==============================] - 34s 8ms/step - loss: 0.2456 - accuracy: 0.9267 - weighted_accuracy: 0.5604 - val_loss: 0.3216 - val_accuracy: 0.8919 - val_weighted_accuracy: 0.6252\n",
            "Epoch 5/5\n",
            "4464/4464 [==============================] - ETA: 0s - loss: 0.2427 - accuracy: 0.9268 - weighted_accuracy: 0.5620\n",
            "Epoch 5: val_loss did not improve from 0.31904\n",
            "4464/4464 [==============================] - 35s 8ms/step - loss: 0.2427 - accuracy: 0.9268 - weighted_accuracy: 0.5620 - val_loss: 0.3196 - val_accuracy: 0.8920 - val_weighted_accuracy: 0.6219\n"
          ]
        }
      ]
    },
    {
      "cell_type": "code",
      "source": [
        "# Evaluating Model Performance\n",
        "test_loss, test_accuracy, test_weighted_accuracy = vgg.evaluate(X_test, target_ohe_test)\n",
        "print('Test loss:', test_loss)\n",
        "print('Test accuracy:', test_accuracy)\n",
        "print('Test weighted accuracy:', test_weighted_accuracy)"
      ],
      "metadata": {
        "id": "sEtEp2qD8u_6",
        "colab": {
          "base_uri": "https://localhost:8080/"
        },
        "outputId": "123aa041-5468-4cf5-ffbe-c8287da5f8e5"
      },
      "execution_count": null,
      "outputs": [
        {
          "output_type": "stream",
          "name": "stdout",
          "text": [
            "1249/1249 [==============================] - 5s 4ms/step - loss: 0.3179 - accuracy: 0.9052 - weighted_accuracy: 0.7065\n",
            "Test loss: 0.3178517520427704\n",
            "Test accuracy: 0.9052242040634155\n",
            "Test weighted accuracy: 0.7065027356147766\n"
          ]
        }
      ]
    },
    {
      "cell_type": "code",
      "source": [
        "# Predicting on Test Data\n",
        "y_pred = vgg.predict(X_test)\n",
        "y_pred_cls = np.argmax(y_pred, axis=-1)\n",
        "y_true_cls = np.argmax(target_ohe_test, axis=-1)\n",
        "\n",
        "# Compute confusion matrix\n",
        "cm = confusion_matrix(y_true_cls, y_pred_cls)\n",
        "print(\"Confusion Matrix:\")\n",
        "print(cm)\n",
        "\n",
        "# Calculate additional metrics\n",
        "precision = precision_score(y_true_cls, y_pred_cls, average='weighted')\n",
        "recall = recall_score(y_true_cls, y_pred_cls, average='weighted')\n",
        "specificity = specificity_score(y_true_cls, y_pred_cls)  # Calculate specificity\n",
        "f1 = f1_score(y_true_cls, y_pred_cls, average='weighted')\n",
        "\n",
        "print('Precision:', precision)\n",
        "print('Recall:', recall)\n",
        "print('Specificity:', specificity)\n",
        "print('F1 Score:', f1)\n",
        "\n",
        "# Plot confusion matrix\n",
        "labels = ['Normal', 'Abnormal']\n",
        "disp = ConfusionMatrixDisplay(confusion_matrix=cm, display_labels=labels)\n",
        "disp.plot(cmap=plt.cm.Blues)\n",
        "plt.title('Confusion Matrix for VGG Model')\n",
        "plt.show()"
      ],
      "metadata": {
        "id": "V02xAk6ZBsDT",
        "colab": {
          "base_uri": "https://localhost:8080/",
          "height": 611
        },
        "outputId": "a95f5005-8ff8-456c-b171-96ba794ee142"
      },
      "execution_count": null,
      "outputs": [
        {
          "output_type": "stream",
          "name": "stdout",
          "text": [
            "1249/1249 [==============================] - 3s 2ms/step\n",
            "Confusion Matrix:\n",
            "[[36176     4]\n",
            " [ 3784     4]]\n",
            "Precision: 0.8668921623785515\n",
            "Recall: 0.9052241793434748\n",
            "Specificity: 0.9998894416804864\n",
            "F1 Score: 0.8603885986024281\n"
          ]
        },
        {
          "output_type": "display_data",
          "data": {
            "text/plain": [
              "<Figure size 640x480 with 2 Axes>"
            ],
            "image/png": "[encoded data removed]"
          },
          "metadata": {}
        }
      ]
    },
    {
      "cell_type": "code",
      "source": [
        "#Saving the model\n",
        "vgg.save('/gdrive/My Drive/final_model_vgg1.h5')"
      ],
      "metadata": {
        "colab": {
          "base_uri": "https://localhost:8080/"
        },
        "id": "AKuk0rKj8nXq",
        "outputId": "b4471b42-c59c-4054-eddd-846ee77c816a"
      },
      "execution_count": null,
      "outputs": [
        {
          "output_type": "stream",
          "name": "stderr",
          "text": [
            "/usr/local/lib/python3.10/dist-packages/keras/src/engine/training.py:3103: UserWarning: You are saving your model as an HDF5 file via `model.save()`. This file format is considered legacy. We recommend using instead the native Keras format, e.g. `model.save('my_model.keras')`.\n",
            "  saving_api.save_model(\n"
          ]
        }
      ]
    },
    {
      "cell_type": "code",
      "source": [
        "#Predicting for test set\n",
        "import os\n",
        "import re\n",
        "import numpy as np\n",
        "import scipy.io as sio\n",
        "from scipy import signal\n",
        "import tensorflow as tf\n",
        "\n",
        "# Utility functions\n",
        "def ppg_freq(filename):\n",
        "    if '128' in filename:\n",
        "        return 128\n",
        "    else:\n",
        "        return 250\n",
        "\n",
        "def load_data(file):\n",
        "    original = sio.loadmat(file)\n",
        "    spk_file = file.replace('.mat', '_spk.mat')\n",
        "    spk = sio.loadmat(spk_file)\n",
        "    return original, spk\n",
        "\n",
        "def filter_files_by_pattern(directory, pattern):\n",
        "    files = os.listdir(directory)\n",
        "    filtered_files = [file for file in files if re.match(pattern, file)]\n",
        "    return filtered_files\n",
        "\n",
        "def normalize(data):\n",
        "    return (data - np.mean(data)) / np.std(data)\n",
        "\n",
        "def butter_bandpass(lowcut, highcut, fs, order=4):\n",
        "    nyquist = 0.5 * fs\n",
        "    low = lowcut / nyquist\n",
        "    high = highcut / nyquist\n",
        "    b, a = signal.butter(order, [low, high], btype='band')\n",
        "    return b, a\n",
        "\n",
        "def butter_bandpass_filter(data, lowcut, highcut, fs, order=5):\n",
        "    b, a = butter_bandpass(lowcut, highcut, fs, order=order)\n",
        "    y = signal.lfilter(b, a, data)\n",
        "    return y\n",
        "\n",
        "def from_freq_to_freq(sample, ini_freq, freq=250):\n",
        "    secs = sample / ini_freq  # Number of seconds in signal\n",
        "    samp = secs * freq        # Number of samples to downsample\n",
        "    return int(samp)\n",
        "\n",
        "# Path to the test data\n",
        "path_to_test_data = '/gdrive/My Drive/test_students_1'\n",
        "path_to_test_output = '/gdrive/My Drive/test_output_binary'\n",
        "pattern = r'S\\d{3}_\\d{3}\\.mat'\n",
        "filtered_test_files = filter_files_by_pattern(path_to_test_data, pattern)\n",
        "\n",
        "# Load the trained model\n",
        "model = tf.keras.models.load_model('/gdrive/My Drive/final_model_vgg1.h5', custom_objects={'weighted_accuracy': weighted_accuracy, 'balanced_accuracy': balanced_accuracy})\n",
        "\n",
        "# Preprocess the test data\n",
        "win = 250\n",
        "lowcut = 0.5\n",
        "highcut = 8.0\n",
        "fs = 250\n",
        "\n",
        "for file in filtered_test_files:\n",
        "    ppg, spk = load_data(path_to_test_data + '/' + file)\n",
        "    original_fs = ppg_freq(file)\n",
        "    resampled = signal.resample_poly(ppg['ppg'][:, 0], 250, original_fs) if original_fs != 250 else ppg['ppg'][:, 0]\n",
        "    normalized = normalize(resampled)\n",
        "    filtered = butter_bandpass_filter(normalized, lowcut, highcut, fs)\n",
        "\n",
        "    heartbeats = []\n",
        "    for j in range(len(spk['speaks'])):\n",
        "        if (from_freq_to_freq(spk['speaks'][j], original_fs) >= win and\n",
        "            from_freq_to_freq(spk['speaks'][j], original_fs) + win <= from_freq_to_freq(spk['speaks'][-1], original_fs)):\n",
        "            heartbeats.append(filtered[from_freq_to_freq(spk['speaks'][j], original_fs) - win :\n",
        "                                       from_freq_to_freq(spk['speaks'][j], original_fs) + win])\n",
        "\n",
        "    heartbeats = np.array(heartbeats)\n",
        "    X_test = tf.keras.preprocessing.sequence.pad_sequences(heartbeats, maxlen=win * 2, dtype='float32', truncating='post', padding=\"post\")\n",
        "\n",
        "    # Predict the labels for the heartbeats\n",
        "    predictions = model.predict(X_test)\n",
        "    predicted_labels = np.argmax(predictions, axis=1)\n",
        "\n",
        "    # Convert numeric predictions to labels\n",
        "    label_map = {0: 'N', 1: 'A'}\n",
        "    predicted_labels = [label_map[label] for label in predicted_labels]\n",
        "\n",
        "    # Save the predicted labels in the corresponding _ann file\n",
        "    ann_file = file.replace('.mat', '_ann.mat')\n",
        "    sio.savemat(path_to_test_output + '/' + ann_file, {'labels': predicted_labels})\n"
      ],
      "metadata": {
        "colab": {
          "base_uri": "https://localhost:8080/"
        },
        "id": "q01sIr4a71sV",
        "outputId": "5aec3822-019f-4caa-cf2a-58bf2c744077"
      },
      "execution_count": null,
      "outputs": [
        {
          "output_type": "stream",
          "name": "stderr",
          "text": [
            "<ipython-input-62-0e34dc39380e>:44: DeprecationWarning: Conversion of an array with ndim > 0 to a scalar is deprecated, and will error in future. Ensure you extract a single element from your array before performing this operation. (Deprecated NumPy 1.25.)\n",
            "  return int(samp)\n"
          ]
        },
        {
          "output_type": "stream",
          "name": "stdout",
          "text": [
            "60/60 [==============================] - 0s 4ms/step\n",
            "71/71 [==============================] - 0s 2ms/step\n",
            "105/105 [==============================] - 0s 3ms/step\n",
            "57/57 [==============================] - 0s 2ms/step\n",
            "73/73 [==============================] - 0s 2ms/step\n",
            "45/45 [==============================] - 0s 2ms/step\n",
            "62/62 [==============================] - 0s 2ms/step\n",
            "68/68 [==============================] - 0s 2ms/step\n",
            "58/58 [==============================] - 0s 3ms/step\n",
            "3030/3030 [==============================] - 6s 2ms/step\n",
            "60/60 [==============================] - 0s 3ms/step\n",
            "95/95 [==============================] - 0s 3ms/step\n",
            "80/80 [==============================] - 0s 3ms/step\n",
            "86/86 [==============================] - 0s 3ms/step\n",
            "73/73 [==============================] - 0s 2ms/step\n",
            "64/64 [==============================] - 0s 3ms/step\n",
            "78/78 [==============================] - 0s 3ms/step\n",
            "3133/3133 [==============================] - 8s 3ms/step\n",
            "3531/3531 [==============================] - 9s 2ms/step\n",
            "3783/3783 [==============================] - 8s 2ms/step\n",
            "2752/2752 [==============================] - 6s 2ms/step\n",
            "2394/2394 [==============================] - 5s 2ms/step\n",
            "2647/2647 [==============================] - 6s 2ms/step\n",
            "2680/2680 [==============================] - 6s 2ms/step\n",
            "3090/3090 [==============================] - 8s 3ms/step\n",
            "2490/2490 [==============================] - 6s 3ms/step\n",
            "2417/2417 [==============================] - 6s 3ms/step\n"
          ]
        }
      ]
    }
  ]
}